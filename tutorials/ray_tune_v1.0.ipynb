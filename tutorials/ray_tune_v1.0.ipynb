{
 "cells": [
  {
   "cell_type": "code",
   "execution_count": 11,
   "id": "3f41a17f-aba8-4c60-b8e1-40e8524c7877",
   "metadata": {
    "tags": []
   },
   "outputs": [
    {
     "name": "stdout",
     "output_type": "stream",
     "text": [
      "Collecting ray\n",
      "  Downloading ray-2.39.0-cp310-cp310-manylinux2014_x86_64.whl.metadata (17 kB)\n",
      "Collecting ConfigSpace\n",
      "  Downloading configspace-1.2.0.tar.gz (130 kB)\n",
      "  Installing build dependencies ... \u001b[?25ldone\n",
      "\u001b[?25h  Getting requirements to build wheel ... \u001b[?25ldone\n",
      "\u001b[?25h  Preparing metadata (pyproject.toml) ... \u001b[?25ldone\n",
      "\u001b[?25hRequirement already satisfied: click>=7.0 in /home/ec2-user/anaconda3/envs/pytorch_p310/lib/python3.10/site-packages (from ray) (8.1.7)\n",
      "Requirement already satisfied: filelock in /home/ec2-user/anaconda3/envs/pytorch_p310/lib/python3.10/site-packages (from ray) (3.16.1)\n",
      "Requirement already satisfied: jsonschema in /home/ec2-user/anaconda3/envs/pytorch_p310/lib/python3.10/site-packages (from ray) (4.23.0)\n",
      "Collecting msgpack<2.0.0,>=1.0.0 (from ray)\n",
      "  Downloading msgpack-1.1.0-cp310-cp310-manylinux_2_17_x86_64.manylinux2014_x86_64.whl.metadata (8.4 kB)\n",
      "Requirement already satisfied: packaging in /home/ec2-user/anaconda3/envs/pytorch_p310/lib/python3.10/site-packages (from ray) (21.3)\n",
      "Requirement already satisfied: protobuf!=3.19.5,>=3.15.3 in /home/ec2-user/anaconda3/envs/pytorch_p310/lib/python3.10/site-packages (from ray) (4.25.5)\n",
      "Requirement already satisfied: pyyaml in /home/ec2-user/anaconda3/envs/pytorch_p310/lib/python3.10/site-packages (from ray) (6.0.2)\n",
      "Collecting aiosignal (from ray)\n",
      "  Downloading aiosignal-1.3.1-py3-none-any.whl.metadata (4.0 kB)\n",
      "Collecting frozenlist (from ray)\n",
      "  Downloading frozenlist-1.5.0-cp310-cp310-manylinux_2_5_x86_64.manylinux1_x86_64.manylinux_2_17_x86_64.manylinux2014_x86_64.whl.metadata (13 kB)\n",
      "Requirement already satisfied: requests in /home/ec2-user/anaconda3/envs/pytorch_p310/lib/python3.10/site-packages (from ray) (2.32.3)\n",
      "Requirement already satisfied: numpy in /home/ec2-user/anaconda3/envs/pytorch_p310/lib/python3.10/site-packages (from ConfigSpace) (1.26.4)\n",
      "Requirement already satisfied: pyparsing in /home/ec2-user/anaconda3/envs/pytorch_p310/lib/python3.10/site-packages (from ConfigSpace) (3.2.0)\n",
      "Requirement already satisfied: scipy in /home/ec2-user/anaconda3/envs/pytorch_p310/lib/python3.10/site-packages (from ConfigSpace) (1.14.1)\n",
      "Requirement already satisfied: typing-extensions in /home/ec2-user/anaconda3/envs/pytorch_p310/lib/python3.10/site-packages (from ConfigSpace) (4.12.2)\n",
      "Collecting more-itertools (from ConfigSpace)\n",
      "  Downloading more_itertools-10.5.0-py3-none-any.whl.metadata (36 kB)\n",
      "Requirement already satisfied: attrs>=22.2.0 in /home/ec2-user/anaconda3/envs/pytorch_p310/lib/python3.10/site-packages (from jsonschema->ray) (23.2.0)\n",
      "Requirement already satisfied: jsonschema-specifications>=2023.03.6 in /home/ec2-user/anaconda3/envs/pytorch_p310/lib/python3.10/site-packages (from jsonschema->ray) (2024.10.1)\n",
      "Requirement already satisfied: referencing>=0.28.4 in /home/ec2-user/anaconda3/envs/pytorch_p310/lib/python3.10/site-packages (from jsonschema->ray) (0.35.1)\n",
      "Requirement already satisfied: rpds-py>=0.7.1 in /home/ec2-user/anaconda3/envs/pytorch_p310/lib/python3.10/site-packages (from jsonschema->ray) (0.20.0)\n",
      "Requirement already satisfied: charset-normalizer<4,>=2 in /home/ec2-user/anaconda3/envs/pytorch_p310/lib/python3.10/site-packages (from requests->ray) (3.4.0)\n",
      "Requirement already satisfied: idna<4,>=2.5 in /home/ec2-user/anaconda3/envs/pytorch_p310/lib/python3.10/site-packages (from requests->ray) (3.10)\n",
      "Requirement already satisfied: urllib3<3,>=1.21.1 in /home/ec2-user/anaconda3/envs/pytorch_p310/lib/python3.10/site-packages (from requests->ray) (2.2.3)\n",
      "Requirement already satisfied: certifi>=2017.4.17 in /home/ec2-user/anaconda3/envs/pytorch_p310/lib/python3.10/site-packages (from requests->ray) (2024.8.30)\n",
      "Downloading ray-2.39.0-cp310-cp310-manylinux2014_x86_64.whl (66.3 MB)\n",
      "\u001b[2K   \u001b[90m━━━━━━━━━━━━━━━━━━━━━━━━━━━━━━━━━━━━━━━━\u001b[0m \u001b[32m66.3/66.3 MB\u001b[0m \u001b[31m101.9 MB/s\u001b[0m eta \u001b[36m0:00:00\u001b[0m00:01\u001b[0m00:01\u001b[0m\n",
      "\u001b[?25hDownloading msgpack-1.1.0-cp310-cp310-manylinux_2_17_x86_64.manylinux2014_x86_64.whl (378 kB)\n",
      "Downloading aiosignal-1.3.1-py3-none-any.whl (7.6 kB)\n",
      "Downloading frozenlist-1.5.0-cp310-cp310-manylinux_2_5_x86_64.manylinux1_x86_64.manylinux_2_17_x86_64.manylinux2014_x86_64.whl (241 kB)\n",
      "Downloading more_itertools-10.5.0-py3-none-any.whl (60 kB)\n",
      "Building wheels for collected packages: ConfigSpace\n",
      "  Building wheel for ConfigSpace (pyproject.toml) ... \u001b[?25ldone\n",
      "\u001b[?25h  Created wheel for ConfigSpace: filename=ConfigSpace-1.2.0-py3-none-any.whl size=115855 sha256=cf6e8b34b65ca58423c5faa9752d86d96be22e19efb256838062de03403e41d3\n",
      "  Stored in directory: /home/ec2-user/.cache/pip/wheels/5f/1f/4b/450c9c9d1ede888e354984d9eba7e60f13878fa079d502d52e\n",
      "Successfully built ConfigSpace\n",
      "Installing collected packages: msgpack, more-itertools, frozenlist, ConfigSpace, aiosignal, ray\n",
      "Successfully installed ConfigSpace-1.2.0 aiosignal-1.3.1 frozenlist-1.5.0 more-itertools-10.5.0 msgpack-1.1.0 ray-2.39.0\n",
      "Note: you may need to restart the kernel to use updated packages.\n"
     ]
    }
   ],
   "source": [
    "pip install ray ConfigSpace bayesian-optimization"
   ]
  },
  {
   "cell_type": "code",
   "execution_count": 6,
   "id": "f22b62b9-aa6c-42d9-a043-84411d983aed",
   "metadata": {
    "tags": []
   },
   "outputs": [],
   "source": [
    "import numpy as np\n",
    "import torch\n",
    "import torch.optim as optim\n",
    "import torch.nn as nn\n",
    "from torchvision import datasets, transforms\n",
    "from torch.utils.data import DataLoader\n",
    "import torch.nn.functional as F\n",
    "from ray import train, tune # has to be before ray, why?\n",
    "from ray.tune.schedulers import ASHAScheduler\n",
    "import bayesopt_search2 as b2"
   ]
  },
  {
   "cell_type": "code",
   "execution_count": 7,
   "id": "60808004-188b-49e3-8c16-926da7f6182b",
   "metadata": {
    "tags": []
   },
   "outputs": [],
   "source": [
    "import ray"
   ]
  },
  {
   "cell_type": "code",
   "execution_count": 93,
   "id": "677e96c9-bf60-41f6-a2ec-57422d0db49b",
   "metadata": {
    "tags": []
   },
   "outputs": [
    {
     "data": {
      "text/plain": [
       "<module 'bayesopt_search2' from '/home/ec2-user/SageMaker/projects/bayesopt_search2.py'>"
      ]
     },
     "execution_count": 93,
     "metadata": {},
     "output_type": "execute_result"
    }
   ],
   "source": [
    "reload(b2)"
   ]
  },
  {
   "cell_type": "code",
   "execution_count": 8,
   "id": "7586fb69-4d82-45a0-a240-ed20e575b58c",
   "metadata": {
    "tags": []
   },
   "outputs": [
    {
     "ename": "AttributeError",
     "evalue": "module 'quante_carlo' has no attribute 'bayesian_optimization_api'",
     "output_type": "error",
     "traceback": [
      "\u001b[0;31m---------------------------------------------------------------------------\u001b[0m",
      "\u001b[0;31mAttributeError\u001b[0m                            Traceback (most recent call last)",
      "Cell \u001b[0;32mIn[8], line 42\u001b[0m\n\u001b[1;32m     38\u001b[0m     args, _ \u001b[38;5;241m=\u001b[39m parser\u001b[38;5;241m.\u001b[39mparse_known_args()\n\u001b[1;32m     40\u001b[0m \u001b[38;5;66;03m#    algo = BayesOptSearch(utility_kwargs={\"kind\": \"ucb\", \"kappa\": 2.5, \"xi\": 0.0}) # utility function is broken\u001b[39;00m\n\u001b[1;32m     41\u001b[0m     \u001b[38;5;66;03m# need to manage numerical instability\u001b[39;00m\n\u001b[0;32m---> 42\u001b[0m     algo \u001b[38;5;241m=\u001b[39m \u001b[43mb2\u001b[49m\u001b[38;5;241;43m.\u001b[39;49m\u001b[43mBayesOptSearch\u001b[49m\u001b[43m(\u001b[49m\u001b[43mbo_args\u001b[49m\u001b[38;5;241;43m=\u001b[39;49m\u001b[43m{\u001b[49m\u001b[38;5;124;43m'\u001b[39;49m\u001b[38;5;124;43mbatch_size\u001b[39;49m\u001b[38;5;124;43m'\u001b[39;49m\u001b[43m:\u001b[49m\u001b[43m \u001b[49m\u001b[38;5;241;43m50\u001b[39;49m\u001b[43m,\u001b[49m\u001b[43m \u001b[49m\u001b[38;5;124;43m'\u001b[39;49m\u001b[38;5;124;43mkeys\u001b[39;49m\u001b[38;5;124;43m'\u001b[39;49m\u001b[43m:\u001b[49m\u001b[43m \u001b[49m\u001b[43m[\u001b[49m\u001b[38;5;124;43m'\u001b[39;49m\u001b[38;5;124;43mwidth\u001b[39;49m\u001b[38;5;124;43m'\u001b[39;49m\u001b[43m,\u001b[49m\u001b[43m \u001b[49m\u001b[38;5;124;43m'\u001b[39;49m\u001b[38;5;124;43mheight\u001b[39;49m\u001b[38;5;124;43m'\u001b[39;49m\u001b[43m]\u001b[49m\u001b[43m,\u001b[49m\u001b[43m \u001b[49m\u001b[38;5;124;43m'\u001b[39;49m\u001b[38;5;124;43mn_procs\u001b[39;49m\u001b[38;5;124;43m'\u001b[39;49m\u001b[43m:\u001b[49m\u001b[43m \u001b[49m\u001b[38;5;241;43m4\u001b[39;49m\u001b[43m,\u001b[49m\n\u001b[1;32m     43\u001b[0m \u001b[43m                                      \u001b[49m\u001b[38;5;124;43m'\u001b[39;49m\u001b[38;5;124;43mhp_space\u001b[39;49m\u001b[38;5;124;43m'\u001b[39;49m\u001b[43m:\u001b[49m\u001b[43m \u001b[49m\u001b[43m{\u001b[49m\u001b[38;5;124;43m'\u001b[39;49m\u001b[38;5;124;43mwidth\u001b[39;49m\u001b[38;5;124;43m'\u001b[39;49m\u001b[43m:\u001b[49m\u001b[43m[\u001b[49m\u001b[38;5;241;43m.1\u001b[39;49m\u001b[43m,\u001b[49m\u001b[43m \u001b[49m\u001b[38;5;241;43m2\u001b[39;49m\u001b[43m]\u001b[49m\u001b[43m,\u001b[49m\u001b[43m \u001b[49m\u001b[38;5;124;43m'\u001b[39;49m\u001b[38;5;124;43mheight\u001b[39;49m\u001b[38;5;124;43m'\u001b[39;49m\u001b[43m:\u001b[49m\u001b[43m[\u001b[49m\u001b[38;5;241;43m.1\u001b[39;49m\u001b[43m,\u001b[49m\u001b[43m \u001b[49m\u001b[38;5;241;43m.9\u001b[39;49m\u001b[43m]\u001b[49m\u001b[43m}\u001b[49m\u001b[43m,\u001b[49m\u001b[43m \u001b[49m\n\u001b[1;32m     44\u001b[0m \u001b[43m                                      \u001b[49m\u001b[38;5;124;43m'\u001b[39;49m\u001b[38;5;124;43mhp_types\u001b[39;49m\u001b[38;5;124;43m'\u001b[39;49m\u001b[43m:\u001b[49m\u001b[43m \u001b[49m\u001b[43m{\u001b[49m\u001b[38;5;124;43m'\u001b[39;49m\u001b[38;5;124;43mheight\u001b[39;49m\u001b[38;5;124;43m'\u001b[39;49m\u001b[43m:\u001b[49m\u001b[43m \u001b[49m\u001b[38;5;124;43m'\u001b[39;49m\u001b[38;5;124;43mfloat\u001b[39;49m\u001b[38;5;124;43m'\u001b[39;49m\u001b[43m,\u001b[49m\u001b[43m \u001b[49m\u001b[38;5;124;43m'\u001b[39;49m\u001b[38;5;124;43mwidth\u001b[39;49m\u001b[38;5;124;43m'\u001b[39;49m\u001b[43m:\u001b[49m\u001b[43m \u001b[49m\u001b[38;5;124;43m'\u001b[39;49m\u001b[38;5;124;43mfloat\u001b[39;49m\u001b[38;5;124;43m'\u001b[39;49m\u001b[43m}\u001b[49m\u001b[43m}\u001b[49m\u001b[43m)\u001b[49m\n\u001b[1;32m     45\u001b[0m     algo \u001b[38;5;241m=\u001b[39m ConcurrencyLimiter(algo, max_concurrent\u001b[38;5;241m=\u001b[39m\u001b[38;5;241m4\u001b[39m)\n\u001b[1;32m     46\u001b[0m     scheduler \u001b[38;5;241m=\u001b[39m AsyncHyperBandScheduler()\n",
      "File \u001b[0;32m~/SageMaker/projects/quante_carlo/bayesopt_search2.py:244\u001b[0m, in \u001b[0;36mBayesOptSearch.__init__\u001b[0;34m(self, bo_args, space, metric, mode, points_to_evaluate, utility_kwargs, random_state, random_search_steps, verbose, patience, skip_duplicate, analysis)\u001b[0m\n\u001b[1;32m    242\u001b[0m \u001b[38;5;28;01mif\u001b[39;00m space:\n\u001b[1;32m    243\u001b[0m     \u001b[38;5;28mself\u001b[39m\u001b[38;5;241m.\u001b[39m_setup_optimizer()\n\u001b[0;32m--> 244\u001b[0m \u001b[38;5;28mself\u001b[39m\u001b[38;5;241m.\u001b[39mtest_optimizer \u001b[38;5;241m=\u001b[39m \u001b[43mqc\u001b[49m\u001b[38;5;241;43m.\u001b[39;49m\u001b[43mbayesian_optimization_api\u001b[49m(\u001b[38;5;241m*\u001b[39m\u001b[38;5;241m*\u001b[39m\u001b[38;5;28mself\u001b[39m\u001b[38;5;241m.\u001b[39mbo_args)\n",
      "\u001b[0;31mAttributeError\u001b[0m: module 'quante_carlo' has no attribute 'bayesian_optimization_api'"
     ]
    }
   ],
   "source": [
    "\"\"\"This example demonstrates the usage of BayesOpt with Ray Tune.\n",
    "\n",
    "It also checks that it is usable with a separate scheduler.\n",
    "\n",
    "Requires the BayesOpt library to be installed (`pip install bayesian-optimization`).\n",
    "\"\"\"\n",
    "import time\n",
    "\n",
    "from ray import train, tune\n",
    "from ray.tune.schedulers import AsyncHyperBandScheduler\n",
    "from ray.tune.search import ConcurrencyLimiter\n",
    "from ray.tune.search.bayesopt import BayesOptSearch\n",
    "\n",
    "\n",
    "def evaluation_fn(step, width, height):\n",
    "    return (0.1 + width * step / 100) ** (-1) + height * 0.1\n",
    "\n",
    "\n",
    "def easy_objective(config):\n",
    "    # Hyperparameters\n",
    "    width, height = config[\"width\"], config[\"height\"]\n",
    "\n",
    "    for step in range(config[\"steps\"]):\n",
    "        # Iterative training function - can be any arbitrary training procedure\n",
    "        intermediate_score = evaluation_fn(step, width, height)\n",
    "        # Feed the score back back to Tune.\n",
    "        train.report({\"iterations\": step, \"mean_loss\": intermediate_score})\n",
    "        time.sleep(0.1)\n",
    "\n",
    "\n",
    "if __name__ == \"__main__\":\n",
    "    import argparse\n",
    "\n",
    "    parser = argparse.ArgumentParser()\n",
    "    parser.add_argument(\n",
    "        \"--smoke-test\", action=\"store_true\", help=\"Finish quickly for testing\"\n",
    "    )\n",
    "    args, _ = parser.parse_known_args()\n",
    "\n",
    "#    algo = BayesOptSearch(utility_kwargs={\"kind\": \"ucb\", \"kappa\": 2.5, \"xi\": 0.0}) # utility function is broken\n",
    "    # need to manage numerical instability\n",
    "    algo = b2.BayesOptSearch(bo_args={'batch_size': 50, 'keys': ['width', 'height'], 'n_procs': 4,\n",
    "                                      'hp_space': {'width':[.1, 2], 'height':[.1, .9]}, \n",
    "                                      'hp_types': {'height': 'float', 'width': 'float'}})\n",
    "    algo = ConcurrencyLimiter(algo, max_concurrent=4)\n",
    "    scheduler = AsyncHyperBandScheduler()\n",
    "    tuner = tune.Tuner(\n",
    "        #easy_objective,\n",
    "        tune.with_resources(easy_objective, resources={\"CPU\": 24}),\n",
    "        tune_config=tune.TuneConfig(\n",
    "            metric=\"mean_loss\",\n",
    "            mode=\"min\",\n",
    "            search_alg=algo,\n",
    "            scheduler=scheduler,\n",
    "            num_samples=10 if args.smoke_test else 20,\n",
    "        ),\n",
    "        run_config=train.RunConfig(\n",
    "            name=\"my_exp\",\n",
    "        ),\n",
    "        param_space={\n",
    "            \"steps\": 100,\n",
    "            \"width\": tune.uniform(0, 20),\n",
    "            \"height\": tune.uniform(-100, 100),\n",
    "        },\n",
    "    )\n",
    "    results = tuner.fit()\n",
    "\n",
    "    print(\"Best hyperparameters found were: \", results.get_best_result().config)"
   ]
  },
  {
   "cell_type": "code",
   "execution_count": 95,
   "id": "8d23b311-57a7-45c4-a7f2-fccfa10f3e7e",
   "metadata": {
    "tags": []
   },
   "outputs": [
    {
     "data": {
      "text/plain": [
       "{'batch_size': 50,\n",
       " 'historical_parameters': ['.5,.5',\n",
       "  '.4,.4',\n",
       "  '11.973169683940732,46.39878836228101',\n",
       "  '19.01428612819832,-25.091976230527507',\n",
       "  '3.119890406724053,-68.79627191151269',\n",
       "  '14.161451555920909,20.223002348641756',\n",
       "  '17.323522915498703,-88.3832775663601',\n",
       "  '4.246782213565523,66.48852816008434',\n",
       "  '3.6680901970686763,-63.635006558579875',\n",
       "  '19.398197043239886,-95.88310114083951',\n",
       "  '10.495128632644757,-39.15155140809246',\n",
       "  '5.824582803960839,-13.610996271576852',\n",
       "  '3.1957112422714085,-81.71669017709647',\n",
       "  '10.433344851231102,-79.72837617300237',\n",
       "  '9.275597238846595,-98.8712926162705',\n",
       "  '12.843733742755944,33.50714506627196',\n",
       "  '4.304918715148016,-93.50598115024678',\n",
       "  '19.148309730364033,-95.96081184529413',\n",
       "  '16.48737869615314,-11.639564423352283',\n",
       "  '19.913278043351237,99.8344133332296',\n",
       "  '19.39627719206612,99.45143746799172',\n",
       "  '0.11797159900006626,-73.5927216207487'],\n",
       " 'historical_values': [0.5,\n",
       "  0.2,\n",
       "  -14.639878836228101,\n",
       "  2.456355072354658,\n",
       "  6.566018929214734,\n",
       "  -12.022300234864176,\n",
       "  8.780357708936942,\n",
       "  -16.648852816008436,\n",
       "  -3.6364993441420124,\n",
       "  9.536507956046009,\n",
       "  -6.0848448591907545,\n",
       "  -8.638900372842315,\n",
       "  3.0662768049070737,\n",
       "  -2.0271623826997622,\n",
       "  7.2435003557086315,\n",
       "  -13.350714506627195,\n",
       "  4.986597932553518,\n",
       "  9.543606550674836,\n",
       "  -8.836043557664771,\n",
       "  -19.98344133332296,\n",
       "  -19.945143746799175,\n",
       "  -2.6407278379251293],\n",
       " 'bo_url': 'https://boaz.onrender.com',\n",
       " 'keys': ['width', 'height'],\n",
       " 'hp_types': ['float', 'float'],\n",
       " 'hp_ranges': [[0.1, 2], [0.1, 0.9]],\n",
       " 'y_best': 100,\n",
       " 'use_qc': 'False',\n",
       " 'n_processors': 2,\n",
       " 'next_points': '{\"next_points\": \"1.9710916365191165,0.6097357350694295;1.6693825823730244,0.8400144042866303\",\"best_ccdf\": 0.27188237736739157}\\n'}"
      ]
     },
     "execution_count": 95,
     "metadata": {},
     "output_type": "execute_result"
    }
   ],
   "source": [
    "algo.searcher.test_optimizer."
   ]
  },
  {
   "cell_type": "code",
   "execution_count": 33,
   "id": "3c804ed1-9a7b-4292-86e5-85f6bd00e2b9",
   "metadata": {
    "tags": []
   },
   "outputs": [
    {
     "data": {
      "text/plain": [
       "'/home/ec2-user/SageMaker/projects'"
      ]
     },
     "execution_count": 33,
     "metadata": {},
     "output_type": "execute_result"
    }
   ],
   "source": [
    "pwd"
   ]
  },
  {
   "cell_type": "code",
   "execution_count": 31,
   "id": "efd1861d-0bab-4a0f-9f4b-a223ae2c66ba",
   "metadata": {
    "tags": []
   },
   "outputs": [
    {
     "data": {
      "text/plain": [
       "[{'height': 46.39878836228101, 'width': 11.973169683940732},\n",
       " {'height': -25.091976230527507, 'width': 19.01428612819832},\n",
       " {'height': -68.79627191151269, 'width': 3.119890406724053},\n",
       " {'height': 20.223002348641756, 'width': 14.161451555920909},\n",
       " {'height': -88.3832775663601, 'width': 17.323522915498703},\n",
       " {'height': 66.48852816008434, 'width': 4.246782213565523},\n",
       " {'height': -63.635006558579875, 'width': 3.6680901970686763},\n",
       " {'height': -95.88310114083951, 'width': 19.398197043239886},\n",
       " {'height': -39.15155140809246, 'width': 10.495128632644757},\n",
       " {'height': -13.610996271576852, 'width': 5.824582803960839},\n",
       " {'height': -81.71669017709647, 'width': 3.1957112422714085},\n",
       " {'height': -79.72837617300237, 'width': 10.433344851231102},\n",
       " {'height': -98.8712926162705, 'width': 9.275597238846595},\n",
       " {'height': 33.50714506627196, 'width': 12.843733742755944},\n",
       " {'height': -95.96081184529413, 'width': 19.148309730364033},\n",
       " {'height': -93.50598115024678, 'width': 4.304918715148016},\n",
       " {'height': -11.639564423352283, 'width': 16.48737869615314},\n",
       " {'height': 99.8344133332296, 'width': 19.913278043351237},\n",
       " {'height': 99.45143746799172, 'width': 19.39627719206612},\n",
       " {'height': -73.5927216207487, 'width': 0.11797159900006626}]"
      ]
     },
     "execution_count": 31,
     "metadata": {},
     "output_type": "execute_result"
    }
   ],
   "source": [
    "algo.searcher.test_optimizer.params_history"
   ]
  },
  {
   "cell_type": "code",
   "execution_count": null,
   "id": "845f5257-75a2-4695-8922-840c6765804f",
   "metadata": {},
   "outputs": [],
   "source": []
  }
 ],
 "metadata": {
  "kernelspec": {
   "display_name": "conda_pytorch_p310",
   "language": "python",
   "name": "conda_pytorch_p310"
  },
  "language_info": {
   "codemirror_mode": {
    "name": "ipython",
    "version": 3
   },
   "file_extension": ".py",
   "mimetype": "text/x-python",
   "name": "python",
   "nbconvert_exporter": "python",
   "pygments_lexer": "ipython3",
   "version": "3.10.14"
  }
 },
 "nbformat": 4,
 "nbformat_minor": 5
}
