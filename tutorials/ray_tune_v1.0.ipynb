{
 "cells": [
  {
   "cell_type": "code",
   "execution_count": 7,
   "id": "3f41a17f-aba8-4c60-b8e1-40e8524c7877",
   "metadata": {
    "tags": []
   },
   "outputs": [
    {
     "name": "stdout",
     "output_type": "stream",
     "text": [
      "Collecting ray\n",
      "  Using cached ray-2.39.0-cp310-cp310-manylinux2014_x86_64.whl.metadata (17 kB)\n",
      "Collecting ConfigSpace\n",
      "  Downloading configspace-1.2.0.tar.gz (130 kB)\n",
      "  Installing build dependencies ... \u001b[?25ldone\n",
      "\u001b[?25h  Getting requirements to build wheel ... \u001b[?25ldone\n",
      "\u001b[?25h  Preparing metadata (pyproject.toml) ... \u001b[?25ldone\n",
      "\u001b[?25hRequirement already satisfied: click>=7.0 in /home/ec2-user/anaconda3/envs/pytorch_p310/lib/python3.10/site-packages (from ray) (8.1.7)\n",
      "Requirement already satisfied: filelock in /home/ec2-user/anaconda3/envs/pytorch_p310/lib/python3.10/site-packages (from ray) (3.16.1)\n",
      "Requirement already satisfied: jsonschema in /home/ec2-user/anaconda3/envs/pytorch_p310/lib/python3.10/site-packages (from ray) (4.23.0)\n",
      "Collecting msgpack<2.0.0,>=1.0.0 (from ray)\n",
      "  Downloading msgpack-1.1.0-cp310-cp310-manylinux_2_17_x86_64.manylinux2014_x86_64.whl.metadata (8.4 kB)\n",
      "Requirement already satisfied: packaging in /home/ec2-user/anaconda3/envs/pytorch_p310/lib/python3.10/site-packages (from ray) (21.3)\n",
      "Requirement already satisfied: protobuf!=3.19.5,>=3.15.3 in /home/ec2-user/anaconda3/envs/pytorch_p310/lib/python3.10/site-packages (from ray) (4.25.5)\n",
      "Requirement already satisfied: pyyaml in /home/ec2-user/anaconda3/envs/pytorch_p310/lib/python3.10/site-packages (from ray) (6.0.2)\n",
      "Collecting aiosignal (from ray)\n",
      "  Downloading aiosignal-1.3.1-py3-none-any.whl.metadata (4.0 kB)\n",
      "Collecting frozenlist (from ray)\n",
      "  Downloading frozenlist-1.5.0-cp310-cp310-manylinux_2_5_x86_64.manylinux1_x86_64.manylinux_2_17_x86_64.manylinux2014_x86_64.whl.metadata (13 kB)\n",
      "Requirement already satisfied: requests in /home/ec2-user/anaconda3/envs/pytorch_p310/lib/python3.10/site-packages (from ray) (2.32.3)\n",
      "Requirement already satisfied: numpy in /home/ec2-user/anaconda3/envs/pytorch_p310/lib/python3.10/site-packages (from ConfigSpace) (1.26.4)\n",
      "Requirement already satisfied: pyparsing in /home/ec2-user/anaconda3/envs/pytorch_p310/lib/python3.10/site-packages (from ConfigSpace) (3.2.0)\n",
      "Requirement already satisfied: scipy in /home/ec2-user/anaconda3/envs/pytorch_p310/lib/python3.10/site-packages (from ConfigSpace) (1.14.1)\n",
      "Requirement already satisfied: typing-extensions in /home/ec2-user/anaconda3/envs/pytorch_p310/lib/python3.10/site-packages (from ConfigSpace) (4.12.2)\n",
      "Collecting more-itertools (from ConfigSpace)\n",
      "  Downloading more_itertools-10.5.0-py3-none-any.whl.metadata (36 kB)\n",
      "Requirement already satisfied: attrs>=22.2.0 in /home/ec2-user/anaconda3/envs/pytorch_p310/lib/python3.10/site-packages (from jsonschema->ray) (23.2.0)\n",
      "Requirement already satisfied: jsonschema-specifications>=2023.03.6 in /home/ec2-user/anaconda3/envs/pytorch_p310/lib/python3.10/site-packages (from jsonschema->ray) (2024.10.1)\n",
      "Requirement already satisfied: referencing>=0.28.4 in /home/ec2-user/anaconda3/envs/pytorch_p310/lib/python3.10/site-packages (from jsonschema->ray) (0.35.1)\n",
      "Requirement already satisfied: rpds-py>=0.7.1 in /home/ec2-user/anaconda3/envs/pytorch_p310/lib/python3.10/site-packages (from jsonschema->ray) (0.20.0)\n",
      "Requirement already satisfied: charset-normalizer<4,>=2 in /home/ec2-user/anaconda3/envs/pytorch_p310/lib/python3.10/site-packages (from requests->ray) (3.4.0)\n",
      "Requirement already satisfied: idna<4,>=2.5 in /home/ec2-user/anaconda3/envs/pytorch_p310/lib/python3.10/site-packages (from requests->ray) (3.10)\n",
      "Requirement already satisfied: urllib3<3,>=1.21.1 in /home/ec2-user/anaconda3/envs/pytorch_p310/lib/python3.10/site-packages (from requests->ray) (2.2.3)\n",
      "Requirement already satisfied: certifi>=2017.4.17 in /home/ec2-user/anaconda3/envs/pytorch_p310/lib/python3.10/site-packages (from requests->ray) (2024.8.30)\n",
      "Downloading ray-2.39.0-cp310-cp310-manylinux2014_x86_64.whl (66.3 MB)\n",
      "\u001b[2K   \u001b[90m━━━━━━━━━━━━━━━━━━━━━━━━━━━━━━━━━━━━━━━━\u001b[0m \u001b[32m66.3/66.3 MB\u001b[0m \u001b[31m134.0 MB/s\u001b[0m eta \u001b[36m0:00:00\u001b[0m00:01\u001b[0m00:01\u001b[0m\n",
      "\u001b[?25hDownloading msgpack-1.1.0-cp310-cp310-manylinux_2_17_x86_64.manylinux2014_x86_64.whl (378 kB)\n",
      "Downloading aiosignal-1.3.1-py3-none-any.whl (7.6 kB)\n",
      "Downloading frozenlist-1.5.0-cp310-cp310-manylinux_2_5_x86_64.manylinux1_x86_64.manylinux_2_17_x86_64.manylinux2014_x86_64.whl (241 kB)\n",
      "Downloading more_itertools-10.5.0-py3-none-any.whl (60 kB)\n",
      "Building wheels for collected packages: ConfigSpace\n",
      "  Building wheel for ConfigSpace (pyproject.toml) ... \u001b[?25ldone\n",
      "\u001b[?25h  Created wheel for ConfigSpace: filename=ConfigSpace-1.2.0-py3-none-any.whl size=115855 sha256=7142c397a045e2d854e039b56dcab96fc9c303b7e654e45f85f15227e25d4acb\n",
      "  Stored in directory: /home/ec2-user/.cache/pip/wheels/5f/1f/4b/450c9c9d1ede888e354984d9eba7e60f13878fa079d502d52e\n",
      "Successfully built ConfigSpace\n",
      "Installing collected packages: msgpack, more-itertools, frozenlist, ConfigSpace, aiosignal, ray\n",
      "Successfully installed ConfigSpace-1.2.0 aiosignal-1.3.1 frozenlist-1.5.0 more-itertools-10.5.0 msgpack-1.1.0 ray-2.39.0\n",
      "Note: you may need to restart the kernel to use updated packages.\n"
     ]
    }
   ],
   "source": [
    "pip install ray ConfigSpace"
   ]
  },
  {
   "cell_type": "code",
   "execution_count": null,
   "id": "f0c43e26-3cc3-4490-bc58-7bbebe08e89e",
   "metadata": {},
   "outputs": [],
   "source": [
    "pip install bayesian-optimization"
   ]
  },
  {
   "cell_type": "code",
   "execution_count": 48,
   "id": "5eec7cf1-ccdc-45ad-99b5-86b99253d877",
   "metadata": {
    "tags": []
   },
   "outputs": [],
   "source": [
    "import bayesopt_search2 as b2"
   ]
  },
  {
   "cell_type": "code",
   "execution_count": 46,
   "id": "f22b62b9-aa6c-42d9-a043-84411d983aed",
   "metadata": {
    "tags": []
   },
   "outputs": [],
   "source": [
    "import numpy as np\n",
    "import torch\n",
    "import torch.optim as optim\n",
    "import torch.nn as nn\n",
    "from torchvision import datasets, transforms\n",
    "from torch.utils.data import DataLoader\n",
    "import torch.nn.functional as F\n",
    "import ray\n",
    "from ray import train, tune\n",
    "from ray.tune.schedulers import ASHAScheduler"
   ]
  },
  {
   "cell_type": "code",
   "execution_count": 93,
   "id": "677e96c9-bf60-41f6-a2ec-57422d0db49b",
   "metadata": {
    "tags": []
   },
   "outputs": [
    {
     "data": {
      "text/plain": [
       "<module 'bayesopt_search2' from '/home/ec2-user/SageMaker/projects/bayesopt_search2.py'>"
      ]
     },
     "execution_count": 93,
     "metadata": {},
     "output_type": "execute_result"
    }
   ],
   "source": [
    "reload(b2)"
   ]
  },
  {
   "cell_type": "code",
   "execution_count": 94,
   "id": "7586fb69-4d82-45a0-a240-ed20e575b58c",
   "metadata": {
    "tags": []
   },
   "outputs": [
    {
     "data": {
      "text/html": [
       "<div class=\"tuneStatus\">\n",
       "  <div style=\"display: flex;flex-direction: row\">\n",
       "    <div style=\"display: flex;flex-direction: column;\">\n",
       "      <h3>Tune Status</h3>\n",
       "      <table>\n",
       "<tbody>\n",
       "<tr><td>Current time:</td><td>2024-11-15 19:20:20</td></tr>\n",
       "<tr><td>Running for: </td><td>00:02:35.45        </td></tr>\n",
       "<tr><td>Memory:      </td><td>9.0/186.6 GiB      </td></tr>\n",
       "</tbody>\n",
       "</table>\n",
       "    </div>\n",
       "    <div class=\"vDivider\"></div>\n",
       "    <div class=\"systemInfo\">\n",
       "      <h3>System Info</h3>\n",
       "      Using AsyncHyperBand: num_stopped=20<br>Bracket: Iter 64.000: 9.507146975779602 | Iter 16.000: 9.256054347832464 | Iter 4.000: 7.460972774020131 | Iter 1.000: -1.6616662975587624<br>Logical resource usage: 24.0/48 CPUs, 0/4 GPUs (0.0/1.0 accelerator_type:T4)\n",
       "    </div>\n",
       "    \n",
       "  </div>\n",
       "  <div class=\"hDivider\"></div>\n",
       "  <div class=\"trialStatus\">\n",
       "    <h3>Trial Status</h3>\n",
       "    <table>\n",
       "<thead>\n",
       "<tr><th>Trial name             </th><th>status    </th><th>loc                 </th><th style=\"text-align: right;\">  height</th><th style=\"text-align: right;\">    width</th><th style=\"text-align: right;\">    loss</th><th style=\"text-align: right;\">  iter</th><th style=\"text-align: right;\">  total time (s)</th><th style=\"text-align: right;\">  iterations</th></tr>\n",
       "</thead>\n",
       "<tbody>\n",
       "<tr><td>easy_objective_1f616027</td><td>TERMINATED</td><td>172.16.179.138:10658</td><td style=\"text-align: right;\">-25.092 </td><td style=\"text-align: right;\">19.0143  </td><td style=\"text-align: right;\">-2.45636</td><td style=\"text-align: right;\">   100</td><td style=\"text-align: right;\">     9.96136    </td><td style=\"text-align: right;\">          99</td></tr>\n",
       "<tr><td>easy_objective_b26a33d6</td><td>TERMINATED</td><td>172.16.179.138:10867</td><td style=\"text-align: right;\"> 46.3988</td><td style=\"text-align: right;\">11.9732  </td><td style=\"text-align: right;\">14.6399 </td><td style=\"text-align: right;\">     1</td><td style=\"text-align: right;\">     0.000228882</td><td style=\"text-align: right;\">           0</td></tr>\n",
       "<tr><td>easy_objective_17a0fd28</td><td>TERMINATED</td><td>172.16.179.138:11161</td><td style=\"text-align: right;\">-68.7963</td><td style=\"text-align: right;\"> 3.11989 </td><td style=\"text-align: right;\">-6.56602</td><td style=\"text-align: right;\">   100</td><td style=\"text-align: right;\">     9.95991    </td><td style=\"text-align: right;\">          99</td></tr>\n",
       "<tr><td>easy_objective_71d002f3</td><td>TERMINATED</td><td>172.16.179.138:11534</td><td style=\"text-align: right;\">-88.3833</td><td style=\"text-align: right;\">17.3235  </td><td style=\"text-align: right;\">-8.78036</td><td style=\"text-align: right;\">   100</td><td style=\"text-align: right;\">     9.96319    </td><td style=\"text-align: right;\">          99</td></tr>\n",
       "<tr><td>easy_objective_f3ea92aa</td><td>TERMINATED</td><td>172.16.179.138:11835</td><td style=\"text-align: right;\"> 20.223 </td><td style=\"text-align: right;\">14.1615  </td><td style=\"text-align: right;\">12.0223 </td><td style=\"text-align: right;\">     1</td><td style=\"text-align: right;\">     0.000242949</td><td style=\"text-align: right;\">           0</td></tr>\n",
       "<tr><td>easy_objective_d16f9886</td><td>TERMINATED</td><td>172.16.179.138:12218</td><td style=\"text-align: right;\">-95.8831</td><td style=\"text-align: right;\">19.3982  </td><td style=\"text-align: right;\">-9.53651</td><td style=\"text-align: right;\">   100</td><td style=\"text-align: right;\">     9.96592    </td><td style=\"text-align: right;\">          99</td></tr>\n",
       "<tr><td>easy_objective_721ec766</td><td>TERMINATED</td><td>172.16.179.138:12592</td><td style=\"text-align: right;\"> 66.4885</td><td style=\"text-align: right;\"> 4.24678 </td><td style=\"text-align: right;\">16.6489 </td><td style=\"text-align: right;\">     1</td><td style=\"text-align: right;\">     0.000244141</td><td style=\"text-align: right;\">           0</td></tr>\n",
       "<tr><td>easy_objective_f4c823ee</td><td>TERMINATED</td><td>172.16.179.138:12950</td><td style=\"text-align: right;\">-63.635 </td><td style=\"text-align: right;\"> 3.66809 </td><td style=\"text-align: right;\"> 3.6365 </td><td style=\"text-align: right;\">     1</td><td style=\"text-align: right;\">     0.000237465</td><td style=\"text-align: right;\">           0</td></tr>\n",
       "<tr><td>easy_objective_1b3d1e53</td><td>TERMINATED</td><td>172.16.179.138:13239</td><td style=\"text-align: right;\">-39.1516</td><td style=\"text-align: right;\">10.4951  </td><td style=\"text-align: right;\"> 6.08484</td><td style=\"text-align: right;\">     1</td><td style=\"text-align: right;\">     0.000244856</td><td style=\"text-align: right;\">           0</td></tr>\n",
       "<tr><td>easy_objective_c5108d97</td><td>TERMINATED</td><td>172.16.179.138:13451</td><td style=\"text-align: right;\">-13.611 </td><td style=\"text-align: right;\"> 5.82458 </td><td style=\"text-align: right;\"> 8.6389 </td><td style=\"text-align: right;\">     1</td><td style=\"text-align: right;\">     0.000246763</td><td style=\"text-align: right;\">           0</td></tr>\n",
       "<tr><td>easy_objective_6ec935e5</td><td>TERMINATED</td><td>172.16.179.138:13685</td><td style=\"text-align: right;\">-81.7167</td><td style=\"text-align: right;\"> 3.19571 </td><td style=\"text-align: right;\">-3.06628</td><td style=\"text-align: right;\">     4</td><td style=\"text-align: right;\">     0.302233   </td><td style=\"text-align: right;\">           3</td></tr>\n",
       "<tr><td>easy_objective_a38c5cd9</td><td>TERMINATED</td><td>172.16.179.138:13816</td><td style=\"text-align: right;\">-95.9608</td><td style=\"text-align: right;\">19.1483  </td><td style=\"text-align: right;\">-9.54361</td><td style=\"text-align: right;\">   100</td><td style=\"text-align: right;\">     9.96167    </td><td style=\"text-align: right;\">          99</td></tr>\n",
       "<tr><td>easy_objective_c45441d2</td><td>TERMINATED</td><td>172.16.179.138:13948</td><td style=\"text-align: right;\">-79.7284</td><td style=\"text-align: right;\">10.4333  </td><td style=\"text-align: right;\"> 2.02716</td><td style=\"text-align: right;\">     1</td><td style=\"text-align: right;\">     0.00024581 </td><td style=\"text-align: right;\">           0</td></tr>\n",
       "<tr><td>easy_objective_1b2f906f</td><td>TERMINATED</td><td>172.16.179.138:14157</td><td style=\"text-align: right;\">-98.8713</td><td style=\"text-align: right;\"> 9.2756  </td><td style=\"text-align: right;\">-7.2435 </td><td style=\"text-align: right;\">     4</td><td style=\"text-align: right;\">     0.301893   </td><td style=\"text-align: right;\">           3</td></tr>\n",
       "<tr><td>easy_objective_6f55ff1a</td><td>TERMINATED</td><td>172.16.179.138:14375</td><td style=\"text-align: right;\"> 33.5071</td><td style=\"text-align: right;\">12.8437  </td><td style=\"text-align: right;\">13.3507 </td><td style=\"text-align: right;\">     1</td><td style=\"text-align: right;\">     0.000240803</td><td style=\"text-align: right;\">           0</td></tr>\n",
       "<tr><td>easy_objective_12407149</td><td>TERMINATED</td><td>172.16.179.138:14580</td><td style=\"text-align: right;\">-93.506 </td><td style=\"text-align: right;\"> 4.30492 </td><td style=\"text-align: right;\">-4.9866 </td><td style=\"text-align: right;\">     4</td><td style=\"text-align: right;\">     0.302181   </td><td style=\"text-align: right;\">           3</td></tr>\n",
       "<tr><td>easy_objective_fe5a6638</td><td>TERMINATED</td><td>172.16.179.138:14792</td><td style=\"text-align: right;\">-11.6396</td><td style=\"text-align: right;\">16.4874  </td><td style=\"text-align: right;\"> 8.83604</td><td style=\"text-align: right;\">     1</td><td style=\"text-align: right;\">     0.000243425</td><td style=\"text-align: right;\">           0</td></tr>\n",
       "<tr><td>easy_objective_a787886e</td><td>TERMINATED</td><td>172.16.179.138:14924</td><td style=\"text-align: right;\"> 99.8344</td><td style=\"text-align: right;\">19.9133  </td><td style=\"text-align: right;\">19.9834 </td><td style=\"text-align: right;\">     1</td><td style=\"text-align: right;\">     0.000232458</td><td style=\"text-align: right;\">           0</td></tr>\n",
       "<tr><td>easy_objective_2b57256a</td><td>TERMINATED</td><td>172.16.179.138:15056</td><td style=\"text-align: right;\"> 99.4514</td><td style=\"text-align: right;\">19.3963  </td><td style=\"text-align: right;\">19.9451 </td><td style=\"text-align: right;\">     1</td><td style=\"text-align: right;\">     0.000243187</td><td style=\"text-align: right;\">           0</td></tr>\n",
       "<tr><td>easy_objective_f0a1e2c5</td><td>TERMINATED</td><td>172.16.179.138:15188</td><td style=\"text-align: right;\">-73.5927</td><td style=\"text-align: right;\"> 0.117972</td><td style=\"text-align: right;\"> 2.64073</td><td style=\"text-align: right;\">     1</td><td style=\"text-align: right;\">     0.000248671</td><td style=\"text-align: right;\">           0</td></tr>\n",
       "</tbody>\n",
       "</table>\n",
       "  </div>\n",
       "</div>\n",
       "<style>\n",
       ".tuneStatus {\n",
       "  color: var(--jp-ui-font-color1);\n",
       "}\n",
       ".tuneStatus .systemInfo {\n",
       "  display: flex;\n",
       "  flex-direction: column;\n",
       "}\n",
       ".tuneStatus td {\n",
       "  white-space: nowrap;\n",
       "}\n",
       ".tuneStatus .trialStatus {\n",
       "  display: flex;\n",
       "  flex-direction: column;\n",
       "}\n",
       ".tuneStatus h3 {\n",
       "  font-weight: bold;\n",
       "}\n",
       ".tuneStatus .hDivider {\n",
       "  border-bottom-width: var(--jp-border-width);\n",
       "  border-bottom-color: var(--jp-border-color0);\n",
       "  border-bottom-style: solid;\n",
       "}\n",
       ".tuneStatus .vDivider {\n",
       "  border-left-width: var(--jp-border-width);\n",
       "  border-left-color: var(--jp-border-color0);\n",
       "  border-left-style: solid;\n",
       "  margin: 0.5em 1em 0.5em 1em;\n",
       "}\n",
       "</style>\n"
      ],
      "text/plain": [
       "<IPython.core.display.HTML object>"
      ]
     },
     "metadata": {},
     "output_type": "display_data"
    },
    {
     "name": "stderr",
     "output_type": "stream",
     "text": [
      "2024-11-15 19:20:20,551\tINFO tune.py:1009 -- Wrote the latest version of all result files and experiment state to '/home/ec2-user/ray_results/my_exp' in 0.0145s.\n",
      "2024-11-15 19:20:20,559\tINFO tune.py:1041 -- Total run time: 155.47 seconds (155.43 seconds for the tuning loop).\n"
     ]
    },
    {
     "name": "stdout",
     "output_type": "stream",
     "text": [
      "Best hyperparameters found were:  {'steps': 100, 'width': 19.148309730364033, 'height': -95.96081184529413}\n"
     ]
    }
   ],
   "source": [
    "\"\"\"This example demonstrates the usage of BayesOpt with Ray Tune.\n",
    "\n",
    "It also checks that it is usable with a separate scheduler.\n",
    "\n",
    "Requires the BayesOpt library to be installed (`pip install bayesian-optimization`).\n",
    "\"\"\"\n",
    "import time\n",
    "\n",
    "from ray import train, tune\n",
    "from ray.tune.schedulers import AsyncHyperBandScheduler\n",
    "from ray.tune.search import ConcurrencyLimiter\n",
    "from ray.tune.search.bayesopt import BayesOptSearch\n",
    "\n",
    "\n",
    "def evaluation_fn(step, width, height):\n",
    "    return (0.1 + width * step / 100) ** (-1) + height * 0.1\n",
    "\n",
    "\n",
    "def easy_objective(config):\n",
    "    # Hyperparameters\n",
    "    width, height = config[\"width\"], config[\"height\"]\n",
    "\n",
    "    for step in range(config[\"steps\"]):\n",
    "        # Iterative training function - can be any arbitrary training procedure\n",
    "        intermediate_score = evaluation_fn(step, width, height)\n",
    "        # Feed the score back back to Tune.\n",
    "        train.report({\"iterations\": step, \"mean_loss\": intermediate_score})\n",
    "        time.sleep(0.1)\n",
    "\n",
    "\n",
    "if __name__ == \"__main__\":\n",
    "    import argparse\n",
    "\n",
    "    parser = argparse.ArgumentParser()\n",
    "    parser.add_argument(\n",
    "        \"--smoke-test\", action=\"store_true\", help=\"Finish quickly for testing\"\n",
    "    )\n",
    "    args, _ = parser.parse_known_args()\n",
    "\n",
    "#    algo = BayesOptSearch(utility_kwargs={\"kind\": \"ucb\", \"kappa\": 2.5, \"xi\": 0.0}) # utility function is broken\n",
    "    # need to manage numerical instability\n",
    "    algo = b2.BayesOptSearch(bo_args={'batch_size': 50, 'keys': ['width', 'height'], 'n_procs': 4,\n",
    "                                      'hp_space': {'width':[.1, 2], 'height':[.1, .9]}, \n",
    "                                      'hp_types': {'height': 'float', 'width': 'float'}})\n",
    "    algo = ConcurrencyLimiter(algo, max_concurrent=4)\n",
    "    scheduler = AsyncHyperBandScheduler()\n",
    "    tuner = tune.Tuner(\n",
    "        #easy_objective,\n",
    "        tune.with_resources(easy_objective, resources={\"CPU\": 24}),\n",
    "        tune_config=tune.TuneConfig(\n",
    "            metric=\"mean_loss\",\n",
    "            mode=\"min\",\n",
    "            search_alg=algo,\n",
    "            scheduler=scheduler,\n",
    "            num_samples=10 if args.smoke_test else 20,\n",
    "        ),\n",
    "        run_config=train.RunConfig(\n",
    "            name=\"my_exp\",\n",
    "        ),\n",
    "        param_space={\n",
    "            \"steps\": 100,\n",
    "            \"width\": tune.uniform(0, 20),\n",
    "            \"height\": tune.uniform(-100, 100),\n",
    "        },\n",
    "    )\n",
    "    results = tuner.fit()\n",
    "\n",
    "    print(\"Best hyperparameters found were: \", results.get_best_result().config)"
   ]
  },
  {
   "cell_type": "code",
   "execution_count": 95,
   "id": "8d23b311-57a7-45c4-a7f2-fccfa10f3e7e",
   "metadata": {
    "tags": []
   },
   "outputs": [
    {
     "data": {
      "text/plain": [
       "{'batch_size': 50,\n",
       " 'historical_parameters': ['.5,.5',\n",
       "  '.4,.4',\n",
       "  '11.973169683940732,46.39878836228101',\n",
       "  '19.01428612819832,-25.091976230527507',\n",
       "  '3.119890406724053,-68.79627191151269',\n",
       "  '14.161451555920909,20.223002348641756',\n",
       "  '17.323522915498703,-88.3832775663601',\n",
       "  '4.246782213565523,66.48852816008434',\n",
       "  '3.6680901970686763,-63.635006558579875',\n",
       "  '19.398197043239886,-95.88310114083951',\n",
       "  '10.495128632644757,-39.15155140809246',\n",
       "  '5.824582803960839,-13.610996271576852',\n",
       "  '3.1957112422714085,-81.71669017709647',\n",
       "  '10.433344851231102,-79.72837617300237',\n",
       "  '9.275597238846595,-98.8712926162705',\n",
       "  '12.843733742755944,33.50714506627196',\n",
       "  '4.304918715148016,-93.50598115024678',\n",
       "  '19.148309730364033,-95.96081184529413',\n",
       "  '16.48737869615314,-11.639564423352283',\n",
       "  '19.913278043351237,99.8344133332296',\n",
       "  '19.39627719206612,99.45143746799172',\n",
       "  '0.11797159900006626,-73.5927216207487'],\n",
       " 'historical_values': [0.5,\n",
       "  0.2,\n",
       "  -14.639878836228101,\n",
       "  2.456355072354658,\n",
       "  6.566018929214734,\n",
       "  -12.022300234864176,\n",
       "  8.780357708936942,\n",
       "  -16.648852816008436,\n",
       "  -3.6364993441420124,\n",
       "  9.536507956046009,\n",
       "  -6.0848448591907545,\n",
       "  -8.638900372842315,\n",
       "  3.0662768049070737,\n",
       "  -2.0271623826997622,\n",
       "  7.2435003557086315,\n",
       "  -13.350714506627195,\n",
       "  4.986597932553518,\n",
       "  9.543606550674836,\n",
       "  -8.836043557664771,\n",
       "  -19.98344133332296,\n",
       "  -19.945143746799175,\n",
       "  -2.6407278379251293],\n",
       " 'bo_url': 'https://boaz.onrender.com',\n",
       " 'keys': ['width', 'height'],\n",
       " 'hp_types': ['float', 'float'],\n",
       " 'hp_ranges': [[0.1, 2], [0.1, 0.9]],\n",
       " 'y_best': 100,\n",
       " 'use_qc': 'False',\n",
       " 'n_processors': 2,\n",
       " 'next_points': '{\"next_points\": \"1.9710916365191165,0.6097357350694295;1.6693825823730244,0.8400144042866303\",\"best_ccdf\": 0.27188237736739157}\\n'}"
      ]
     },
     "execution_count": 95,
     "metadata": {},
     "output_type": "execute_result"
    }
   ],
   "source": [
    "algo.searcher.test_optimizer."
   ]
  },
  {
   "cell_type": "code",
   "execution_count": 33,
   "id": "3c804ed1-9a7b-4292-86e5-85f6bd00e2b9",
   "metadata": {
    "tags": []
   },
   "outputs": [
    {
     "data": {
      "text/plain": [
       "'/home/ec2-user/SageMaker/projects'"
      ]
     },
     "execution_count": 33,
     "metadata": {},
     "output_type": "execute_result"
    }
   ],
   "source": [
    "pwd"
   ]
  },
  {
   "cell_type": "code",
   "execution_count": 31,
   "id": "efd1861d-0bab-4a0f-9f4b-a223ae2c66ba",
   "metadata": {
    "tags": []
   },
   "outputs": [
    {
     "data": {
      "text/plain": [
       "[{'height': 46.39878836228101, 'width': 11.973169683940732},\n",
       " {'height': -25.091976230527507, 'width': 19.01428612819832},\n",
       " {'height': -68.79627191151269, 'width': 3.119890406724053},\n",
       " {'height': 20.223002348641756, 'width': 14.161451555920909},\n",
       " {'height': -88.3832775663601, 'width': 17.323522915498703},\n",
       " {'height': 66.48852816008434, 'width': 4.246782213565523},\n",
       " {'height': -63.635006558579875, 'width': 3.6680901970686763},\n",
       " {'height': -95.88310114083951, 'width': 19.398197043239886},\n",
       " {'height': -39.15155140809246, 'width': 10.495128632644757},\n",
       " {'height': -13.610996271576852, 'width': 5.824582803960839},\n",
       " {'height': -81.71669017709647, 'width': 3.1957112422714085},\n",
       " {'height': -79.72837617300237, 'width': 10.433344851231102},\n",
       " {'height': -98.8712926162705, 'width': 9.275597238846595},\n",
       " {'height': 33.50714506627196, 'width': 12.843733742755944},\n",
       " {'height': -95.96081184529413, 'width': 19.148309730364033},\n",
       " {'height': -93.50598115024678, 'width': 4.304918715148016},\n",
       " {'height': -11.639564423352283, 'width': 16.48737869615314},\n",
       " {'height': 99.8344133332296, 'width': 19.913278043351237},\n",
       " {'height': 99.45143746799172, 'width': 19.39627719206612},\n",
       " {'height': -73.5927216207487, 'width': 0.11797159900006626}]"
      ]
     },
     "execution_count": 31,
     "metadata": {},
     "output_type": "execute_result"
    }
   ],
   "source": [
    "algo.searcher.test_optimizer.params_history"
   ]
  },
  {
   "cell_type": "code",
   "execution_count": null,
   "id": "845f5257-75a2-4695-8922-840c6765804f",
   "metadata": {},
   "outputs": [],
   "source": []
  }
 ],
 "metadata": {
  "kernelspec": {
   "display_name": "conda_pytorch_p310",
   "language": "python",
   "name": "conda_pytorch_p310"
  },
  "language_info": {
   "codemirror_mode": {
    "name": "ipython",
    "version": 3
   },
   "file_extension": ".py",
   "mimetype": "text/x-python",
   "name": "python",
   "nbconvert_exporter": "python",
   "pygments_lexer": "ipython3",
   "version": "3.10.14"
  }
 },
 "nbformat": 4,
 "nbformat_minor": 5
}
