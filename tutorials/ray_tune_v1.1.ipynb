{
 "cells": [
  {
   "cell_type": "code",
   "execution_count": 1,
   "id": "3f41a17f-aba8-4c60-b8e1-40e8524c7877",
   "metadata": {
    "tags": []
   },
   "outputs": [
    {
     "name": "stdout",
     "output_type": "stream",
     "text": [
      "Collecting ray\n",
      "  Downloading ray-2.39.0-cp310-cp310-manylinux2014_x86_64.whl.metadata (17 kB)\n",
      "Collecting ConfigSpace\n",
      "  Downloading configspace-1.2.0.tar.gz (130 kB)\n",
      "  Installing build dependencies ... \u001b[?25ldone\n",
      "\u001b[?25h  Getting requirements to build wheel ... \u001b[?25ldone\n",
      "\u001b[?25h  Preparing metadata (pyproject.toml) ... \u001b[?25ldone\n",
      "\u001b[?25hCollecting bayesian-optimization\n",
      "  Downloading bayesian_optimization-2.0.0-py3-none-any.whl.metadata (8.9 kB)\n",
      "Requirement already satisfied: click>=7.0 in /home/ec2-user/anaconda3/envs/pytorch_p310/lib/python3.10/site-packages (from ray) (8.1.7)\n",
      "Requirement already satisfied: filelock in /home/ec2-user/anaconda3/envs/pytorch_p310/lib/python3.10/site-packages (from ray) (3.16.1)\n",
      "Requirement already satisfied: jsonschema in /home/ec2-user/anaconda3/envs/pytorch_p310/lib/python3.10/site-packages (from ray) (4.23.0)\n",
      "Collecting msgpack<2.0.0,>=1.0.0 (from ray)\n",
      "  Downloading msgpack-1.1.0-cp310-cp310-manylinux_2_17_x86_64.manylinux2014_x86_64.whl.metadata (8.4 kB)\n",
      "Requirement already satisfied: packaging in /home/ec2-user/anaconda3/envs/pytorch_p310/lib/python3.10/site-packages (from ray) (21.3)\n",
      "Requirement already satisfied: protobuf!=3.19.5,>=3.15.3 in /home/ec2-user/anaconda3/envs/pytorch_p310/lib/python3.10/site-packages (from ray) (4.25.5)\n",
      "Requirement already satisfied: pyyaml in /home/ec2-user/anaconda3/envs/pytorch_p310/lib/python3.10/site-packages (from ray) (6.0.2)\n",
      "Collecting aiosignal (from ray)\n",
      "  Downloading aiosignal-1.3.1-py3-none-any.whl.metadata (4.0 kB)\n",
      "Collecting frozenlist (from ray)\n",
      "  Downloading frozenlist-1.5.0-cp310-cp310-manylinux_2_5_x86_64.manylinux1_x86_64.manylinux_2_17_x86_64.manylinux2014_x86_64.whl.metadata (13 kB)\n",
      "Requirement already satisfied: requests in /home/ec2-user/anaconda3/envs/pytorch_p310/lib/python3.10/site-packages (from ray) (2.32.3)\n",
      "Requirement already satisfied: numpy in /home/ec2-user/anaconda3/envs/pytorch_p310/lib/python3.10/site-packages (from ConfigSpace) (1.26.4)\n",
      "Requirement already satisfied: pyparsing in /home/ec2-user/anaconda3/envs/pytorch_p310/lib/python3.10/site-packages (from ConfigSpace) (3.2.0)\n",
      "Requirement already satisfied: scipy in /home/ec2-user/anaconda3/envs/pytorch_p310/lib/python3.10/site-packages (from ConfigSpace) (1.14.1)\n",
      "Requirement already satisfied: typing-extensions in /home/ec2-user/anaconda3/envs/pytorch_p310/lib/python3.10/site-packages (from ConfigSpace) (4.12.2)\n",
      "Collecting more-itertools (from ConfigSpace)\n",
      "  Downloading more_itertools-10.5.0-py3-none-any.whl.metadata (36 kB)\n",
      "Requirement already satisfied: colorama<0.5.0,>=0.4.6 in /home/ec2-user/anaconda3/envs/pytorch_p310/lib/python3.10/site-packages (from bayesian-optimization) (0.4.6)\n",
      "Requirement already satisfied: scikit-learn<2.0.0,>=1.0.0 in /home/ec2-user/anaconda3/envs/pytorch_p310/lib/python3.10/site-packages (from bayesian-optimization) (1.5.2)\n",
      "Requirement already satisfied: joblib>=1.2.0 in /home/ec2-user/anaconda3/envs/pytorch_p310/lib/python3.10/site-packages (from scikit-learn<2.0.0,>=1.0.0->bayesian-optimization) (1.4.2)\n",
      "Requirement already satisfied: threadpoolctl>=3.1.0 in /home/ec2-user/anaconda3/envs/pytorch_p310/lib/python3.10/site-packages (from scikit-learn<2.0.0,>=1.0.0->bayesian-optimization) (3.5.0)\n",
      "Requirement already satisfied: attrs>=22.2.0 in /home/ec2-user/anaconda3/envs/pytorch_p310/lib/python3.10/site-packages (from jsonschema->ray) (23.2.0)\n",
      "Requirement already satisfied: jsonschema-specifications>=2023.03.6 in /home/ec2-user/anaconda3/envs/pytorch_p310/lib/python3.10/site-packages (from jsonschema->ray) (2024.10.1)\n",
      "Requirement already satisfied: referencing>=0.28.4 in /home/ec2-user/anaconda3/envs/pytorch_p310/lib/python3.10/site-packages (from jsonschema->ray) (0.35.1)\n",
      "Requirement already satisfied: rpds-py>=0.7.1 in /home/ec2-user/anaconda3/envs/pytorch_p310/lib/python3.10/site-packages (from jsonschema->ray) (0.20.0)\n",
      "Requirement already satisfied: charset-normalizer<4,>=2 in /home/ec2-user/anaconda3/envs/pytorch_p310/lib/python3.10/site-packages (from requests->ray) (3.4.0)\n",
      "Requirement already satisfied: idna<4,>=2.5 in /home/ec2-user/anaconda3/envs/pytorch_p310/lib/python3.10/site-packages (from requests->ray) (3.10)\n",
      "Requirement already satisfied: urllib3<3,>=1.21.1 in /home/ec2-user/anaconda3/envs/pytorch_p310/lib/python3.10/site-packages (from requests->ray) (2.2.3)\n",
      "Requirement already satisfied: certifi>=2017.4.17 in /home/ec2-user/anaconda3/envs/pytorch_p310/lib/python3.10/site-packages (from requests->ray) (2024.8.30)\n",
      "Downloading ray-2.39.0-cp310-cp310-manylinux2014_x86_64.whl (66.3 MB)\n",
      "\u001b[2K   \u001b[90m━━━━━━━━━━━━━━━━━━━━━━━━━━━━━━━━━━━━━━━━\u001b[0m \u001b[32m66.3/66.3 MB\u001b[0m \u001b[31m152.5 MB/s\u001b[0m eta \u001b[36m0:00:00\u001b[0m00:01\u001b[0m00:01\u001b[0m\n",
      "\u001b[?25hDownloading bayesian_optimization-2.0.0-py3-none-any.whl (30 kB)\n",
      "Downloading msgpack-1.1.0-cp310-cp310-manylinux_2_17_x86_64.manylinux2014_x86_64.whl (378 kB)\n",
      "Downloading aiosignal-1.3.1-py3-none-any.whl (7.6 kB)\n",
      "Downloading frozenlist-1.5.0-cp310-cp310-manylinux_2_5_x86_64.manylinux1_x86_64.manylinux_2_17_x86_64.manylinux2014_x86_64.whl (241 kB)\n",
      "Downloading more_itertools-10.5.0-py3-none-any.whl (60 kB)\n",
      "Building wheels for collected packages: ConfigSpace\n",
      "  Building wheel for ConfigSpace (pyproject.toml) ... \u001b[?25ldone\n",
      "\u001b[?25h  Created wheel for ConfigSpace: filename=ConfigSpace-1.2.0-py3-none-any.whl size=115855 sha256=9ff78b52756d72b83be3d712089602500bd74bbe0a15dda1ab1de99315c92818\n",
      "  Stored in directory: /home/ec2-user/.cache/pip/wheels/5f/1f/4b/450c9c9d1ede888e354984d9eba7e60f13878fa079d502d52e\n",
      "Successfully built ConfigSpace\n",
      "Installing collected packages: msgpack, more-itertools, frozenlist, ConfigSpace, aiosignal, bayesian-optimization, ray\n",
      "Successfully installed ConfigSpace-1.2.0 aiosignal-1.3.1 bayesian-optimization-2.0.0 frozenlist-1.5.0 more-itertools-10.5.0 msgpack-1.1.0 ray-2.39.0\n",
      "Note: you may need to restart the kernel to use updated packages.\n"
     ]
    }
   ],
   "source": [
    "pip install ray ConfigSpace bayesian-optimization"
   ]
  },
  {
   "cell_type": "code",
   "execution_count": 2,
   "id": "538ed37d-f208-48eb-9013-f3d1b063ae9e",
   "metadata": {
    "tags": []
   },
   "outputs": [],
   "source": [
    "import numpy as np\n",
    "#import torch\n",
    "#import torch.optim as optim\n",
    "#import torch.nn as nn\n",
    "#from torchvision import datasets, transforms\n",
    "#from torch.utils.data import DataLoader\n",
    "#import torch.nn.functional as F\n",
    "from ray import train, tune # has to be before ray, why?\n",
    "from ray.tune.schedulers import ASHAScheduler\n",
    "import bayesopt_search2 as b2"
   ]
  },
  {
   "cell_type": "code",
   "execution_count": 3,
   "id": "d2f8a74b-dfd6-43b8-a5c0-a2fc3374196a",
   "metadata": {
    "tags": []
   },
   "outputs": [],
   "source": [
    "\"\"\"This example demonstrates the usage of BayesOpt with Ray Tune.\n",
    "\n",
    "It also checks that it is usable with a separate scheduler.\n",
    "\n",
    "Requires the BayesOpt library to be installed (`pip install bayesian-optimization`).\n",
    "\"\"\"\n",
    "import time\n",
    "from ray.tune.schedulers import AsyncHyperBandScheduler\n",
    "from ray.tune.search import ConcurrencyLimiter\n",
    "from ray.tune.search.bayesopt import BayesOptSearch"
   ]
  },
  {
   "cell_type": "code",
   "execution_count": 52,
   "id": "677e96c9-bf60-41f6-a2ec-57422d0db49b",
   "metadata": {
    "tags": []
   },
   "outputs": [
    {
     "data": {
      "text/plain": [
       "<module 'bayesopt_search2' from '/home/ec2-user/SageMaker/projects/quante_carlo/tutorials/bayesopt_search2.py'>"
      ]
     },
     "execution_count": 52,
     "metadata": {},
     "output_type": "execute_result"
    }
   ],
   "source": [
    "from importlib import reload\n",
    "reload(b2)"
   ]
  },
  {
   "cell_type": "code",
   "execution_count": 53,
   "id": "7586fb69-4d82-45a0-a240-ed20e575b58c",
   "metadata": {
    "tags": []
   },
   "outputs": [
    {
     "data": {
      "text/html": [
       "<div class=\"tuneStatus\">\n",
       "  <div style=\"display: flex;flex-direction: row\">\n",
       "    <div style=\"display: flex;flex-direction: column;\">\n",
       "      <h3>Tune Status</h3>\n",
       "      <table>\n",
       "<tbody>\n",
       "<tr><td>Current time:</td><td>2024-11-17 03:18:24</td></tr>\n",
       "<tr><td>Running for: </td><td>00:00:54.69        </td></tr>\n",
       "<tr><td>Memory:      </td><td>5.0/186.6 GiB      </td></tr>\n",
       "</tbody>\n",
       "</table>\n",
       "    </div>\n",
       "    <div class=\"vDivider\"></div>\n",
       "    <div class=\"systemInfo\">\n",
       "      <h3>System Info</h3>\n",
       "      Using AsyncHyperBand: num_stopped=20<br>Bracket: Iter 64.000: 9.507146975779602 | Iter 16.000: 9.256054347832464 | Iter 4.000: 7.460972774020131 | Iter 1.000: -1.6616662975587624<br>Logical resource usage: 24.0/48 CPUs, 0/4 GPUs (0.0/1.0 accelerator_type:T4)\n",
       "    </div>\n",
       "    \n",
       "  </div>\n",
       "  <div class=\"hDivider\"></div>\n",
       "  <div class=\"trialStatus\">\n",
       "    <h3>Trial Status</h3>\n",
       "    <table>\n",
       "<thead>\n",
       "<tr><th>Trial name             </th><th>status    </th><th>loc             </th><th style=\"text-align: right;\">   height</th><th style=\"text-align: right;\">   width</th><th style=\"text-align: right;\">    loss</th><th style=\"text-align: right;\">  iter</th><th style=\"text-align: right;\">  total time (s)</th><th style=\"text-align: right;\">  iterations</th></tr>\n",
       "</thead>\n",
       "<tbody>\n",
       "<tr><td>easy_objective_0e6ce1d8</td><td>TERMINATED</td><td>172.16.6.16:5438</td><td style=\"text-align: right;\">-25.092  </td><td style=\"text-align: right;\">19.0143 </td><td style=\"text-align: right;\">-2.45636</td><td style=\"text-align: right;\">   100</td><td style=\"text-align: right;\">     9.96178    </td><td style=\"text-align: right;\">          99</td></tr>\n",
       "<tr><td>easy_objective_12b2b7d1</td><td>TERMINATED</td><td>172.16.6.16:5555</td><td style=\"text-align: right;\"> 46.3988 </td><td style=\"text-align: right;\">11.9732 </td><td style=\"text-align: right;\">14.6399 </td><td style=\"text-align: right;\">     1</td><td style=\"text-align: right;\">     0.000236988</td><td style=\"text-align: right;\">           0</td></tr>\n",
       "<tr><td>easy_objective_41c4d98b</td><td>TERMINATED</td><td>172.16.6.16:5746</td><td style=\"text-align: right;\">-68.7963 </td><td style=\"text-align: right;\"> 3.11989</td><td style=\"text-align: right;\">-6.56602</td><td style=\"text-align: right;\">   100</td><td style=\"text-align: right;\">     9.96373    </td><td style=\"text-align: right;\">          99</td></tr>\n",
       "<tr><td>easy_objective_bcaad579</td><td>TERMINATED</td><td>172.16.6.16:6011</td><td style=\"text-align: right;\">-88.3833 </td><td style=\"text-align: right;\">17.3235 </td><td style=\"text-align: right;\">-8.78036</td><td style=\"text-align: right;\">   100</td><td style=\"text-align: right;\">     9.96154    </td><td style=\"text-align: right;\">          99</td></tr>\n",
       "<tr><td>easy_objective_a5f858b8</td><td>TERMINATED</td><td>172.16.6.16:6235</td><td style=\"text-align: right;\"> 20.223  </td><td style=\"text-align: right;\">14.1615 </td><td style=\"text-align: right;\">12.0223 </td><td style=\"text-align: right;\">     1</td><td style=\"text-align: right;\">     0.000247478</td><td style=\"text-align: right;\">           0</td></tr>\n",
       "<tr><td>easy_objective_420f926b</td><td>TERMINATED</td><td>172.16.6.16:6437</td><td style=\"text-align: right;\">-95.8831 </td><td style=\"text-align: right;\">19.3982 </td><td style=\"text-align: right;\">-9.53651</td><td style=\"text-align: right;\">   100</td><td style=\"text-align: right;\">     9.96228    </td><td style=\"text-align: right;\">          99</td></tr>\n",
       "<tr><td>easy_objective_f2afb5df</td><td>TERMINATED</td><td>172.16.6.16:6676</td><td style=\"text-align: right;\"> 66.4885 </td><td style=\"text-align: right;\"> 4.24678</td><td style=\"text-align: right;\">16.6489 </td><td style=\"text-align: right;\">     1</td><td style=\"text-align: right;\">     0.000267506</td><td style=\"text-align: right;\">           0</td></tr>\n",
       "<tr><td>easy_objective_2a125bb8</td><td>TERMINATED</td><td>172.16.6.16:6924</td><td style=\"text-align: right;\">-63.635  </td><td style=\"text-align: right;\"> 3.66809</td><td style=\"text-align: right;\"> 3.6365 </td><td style=\"text-align: right;\">     1</td><td style=\"text-align: right;\">     0.000233173</td><td style=\"text-align: right;\">           0</td></tr>\n",
       "<tr><td>easy_objective_f8a04562</td><td>TERMINATED</td><td>172.16.6.16:7124</td><td style=\"text-align: right;\">-39.1516 </td><td style=\"text-align: right;\">10.4951 </td><td style=\"text-align: right;\"> 6.08484</td><td style=\"text-align: right;\">     1</td><td style=\"text-align: right;\">     0.00024271 </td><td style=\"text-align: right;\">           0</td></tr>\n",
       "<tr><td>easy_objective_1fa6f11b</td><td>TERMINATED</td><td>172.16.6.16:7233</td><td style=\"text-align: right;\">-13.611  </td><td style=\"text-align: right;\"> 5.82458</td><td style=\"text-align: right;\"> 8.6389 </td><td style=\"text-align: right;\">     1</td><td style=\"text-align: right;\">     0.000238895</td><td style=\"text-align: right;\">           0</td></tr>\n",
       "<tr><td>easy_objective_80d3469a</td><td>TERMINATED</td><td>172.16.6.16:7353</td><td style=\"text-align: right;\">-81.7167 </td><td style=\"text-align: right;\"> 3.19571</td><td style=\"text-align: right;\">-3.06628</td><td style=\"text-align: right;\">     4</td><td style=\"text-align: right;\">     0.302117   </td><td style=\"text-align: right;\">           3</td></tr>\n",
       "<tr><td>easy_objective_61c2076f</td><td>TERMINATED</td><td>172.16.6.16:7463</td><td style=\"text-align: right;\">-95.9608 </td><td style=\"text-align: right;\">19.1483 </td><td style=\"text-align: right;\">-9.54361</td><td style=\"text-align: right;\">   100</td><td style=\"text-align: right;\">     9.96408    </td><td style=\"text-align: right;\">          99</td></tr>\n",
       "<tr><td>easy_objective_d14fcf9e</td><td>TERMINATED</td><td>172.16.6.16:7596</td><td style=\"text-align: right;\">-79.7284 </td><td style=\"text-align: right;\">10.4333 </td><td style=\"text-align: right;\"> 2.02716</td><td style=\"text-align: right;\">     1</td><td style=\"text-align: right;\">     0.000243902</td><td style=\"text-align: right;\">           0</td></tr>\n",
       "<tr><td>easy_objective_20f6d41b</td><td>TERMINATED</td><td>172.16.6.16:7799</td><td style=\"text-align: right;\">-98.8713 </td><td style=\"text-align: right;\"> 9.2756 </td><td style=\"text-align: right;\">-7.2435 </td><td style=\"text-align: right;\">     4</td><td style=\"text-align: right;\">     0.302216   </td><td style=\"text-align: right;\">           3</td></tr>\n",
       "<tr><td>easy_objective_4c6cb807</td><td>TERMINATED</td><td>172.16.6.16:8044</td><td style=\"text-align: right;\"> 33.5071 </td><td style=\"text-align: right;\">12.8437 </td><td style=\"text-align: right;\">13.3507 </td><td style=\"text-align: right;\">     1</td><td style=\"text-align: right;\">     0.000245571</td><td style=\"text-align: right;\">           0</td></tr>\n",
       "<tr><td>easy_objective_17ccbce4</td><td>TERMINATED</td><td>172.16.6.16:8262</td><td style=\"text-align: right;\">-93.506  </td><td style=\"text-align: right;\"> 4.30492</td><td style=\"text-align: right;\">-4.9866 </td><td style=\"text-align: right;\">     4</td><td style=\"text-align: right;\">     0.301847   </td><td style=\"text-align: right;\">           3</td></tr>\n",
       "<tr><td>easy_objective_2981aaf7</td><td>TERMINATED</td><td>172.16.6.16:8454</td><td style=\"text-align: right;\"> 99.6056 </td><td style=\"text-align: right;\">19.9582 </td><td style=\"text-align: right;\">19.9606 </td><td style=\"text-align: right;\">     1</td><td style=\"text-align: right;\">     0.000239611</td><td style=\"text-align: right;\">           0</td></tr>\n",
       "<tr><td>easy_objective_b1d66f52</td><td>TERMINATED</td><td>172.16.6.16:8567</td><td style=\"text-align: right;\"> 99.8344 </td><td style=\"text-align: right;\">19.9133 </td><td style=\"text-align: right;\">19.9834 </td><td style=\"text-align: right;\">     1</td><td style=\"text-align: right;\">     0.00024128 </td><td style=\"text-align: right;\">           0</td></tr>\n",
       "<tr><td>easy_objective_390fd67f</td><td>TERMINATED</td><td>172.16.6.16:8692</td><td style=\"text-align: right;\"> -6.64165</td><td style=\"text-align: right;\">19.9951 </td><td style=\"text-align: right;\"> 9.33583</td><td style=\"text-align: right;\">     1</td><td style=\"text-align: right;\">     0.00023675 </td><td style=\"text-align: right;\">           0</td></tr>\n",
       "<tr><td>easy_objective_8b92d6c2</td><td>TERMINATED</td><td>172.16.6.16:8814</td><td style=\"text-align: right;\"> -4.35366</td><td style=\"text-align: right;\">19.9018 </td><td style=\"text-align: right;\"> 9.56463</td><td style=\"text-align: right;\">     1</td><td style=\"text-align: right;\">     0.000244141</td><td style=\"text-align: right;\">           0</td></tr>\n",
       "</tbody>\n",
       "</table>\n",
       "  </div>\n",
       "</div>\n",
       "<style>\n",
       ".tuneStatus {\n",
       "  color: var(--jp-ui-font-color1);\n",
       "}\n",
       ".tuneStatus .systemInfo {\n",
       "  display: flex;\n",
       "  flex-direction: column;\n",
       "}\n",
       ".tuneStatus td {\n",
       "  white-space: nowrap;\n",
       "}\n",
       ".tuneStatus .trialStatus {\n",
       "  display: flex;\n",
       "  flex-direction: column;\n",
       "}\n",
       ".tuneStatus h3 {\n",
       "  font-weight: bold;\n",
       "}\n",
       ".tuneStatus .hDivider {\n",
       "  border-bottom-width: var(--jp-border-width);\n",
       "  border-bottom-color: var(--jp-border-color0);\n",
       "  border-bottom-style: solid;\n",
       "}\n",
       ".tuneStatus .vDivider {\n",
       "  border-left-width: var(--jp-border-width);\n",
       "  border-left-color: var(--jp-border-color0);\n",
       "  border-left-style: solid;\n",
       "  margin: 0.5em 1em 0.5em 1em;\n",
       "}\n",
       "</style>\n"
      ],
      "text/plain": [
       "<IPython.core.display.HTML object>"
      ]
     },
     "metadata": {},
     "output_type": "display_data"
    },
    {
     "name": "stderr",
     "output_type": "stream",
     "text": [
      "2024-11-17 03:18:24,156\tINFO tune.py:1009 -- Wrote the latest version of all result files and experiment state to '/home/ec2-user/ray_results/my_exp' in 0.0170s.\n",
      "2024-11-17 03:18:24,164\tINFO tune.py:1041 -- Total run time: 54.71 seconds (54.68 seconds for the tuning loop).\n"
     ]
    },
    {
     "name": "stdout",
     "output_type": "stream",
     "text": [
      "Best hyperparameters found were:  {'steps': 100, 'width': 19.148309730364033, 'height': -95.96081184529413}\n"
     ]
    }
   ],
   "source": [
    "def evaluation_fn(step, width, height):\n",
    "    return (0.1 + width * step / 100) ** (-1) + height * 0.1\n",
    "\n",
    "\n",
    "def easy_objective(config):\n",
    "    # Hyperparameters\n",
    "    width, height = config[\"width\"], config[\"height\"]\n",
    "\n",
    "    for step in range(config[\"steps\"]):\n",
    "        # Iterative training function - can be any arbitrary training procedure\n",
    "        intermediate_score = evaluation_fn(step, width, height)\n",
    "        # Feed the score back back to Tune.\n",
    "        train.report({\"iterations\": step, \"mean_loss\": intermediate_score})\n",
    "        time.sleep(0.1)\n",
    "\n",
    "\n",
    "if __name__ == \"__main__\":\n",
    "    import argparse\n",
    "\n",
    "    parser = argparse.ArgumentParser()\n",
    "    parser.add_argument(\n",
    "        \"--smoke-test\", action=\"store_true\", help=\"Finish quickly for testing\"\n",
    "    )\n",
    "    args, _ = parser.parse_known_args()\n",
    "\n",
    "#    algo = BayesOptSearch(utility_kwargs={\"kind\": \"ucb\", \"kappa\": 2.5, \"xi\": 0.0}) # utility function is broken\n",
    "    # need to manage numerical instability\n",
    "    algo = b2.BayesOptSearch(bo_args={'batch_size': 50, 'keys': ['width', 'height'], 'n_procs': 4,\n",
    "                                      'hp_space': {'width':[0, 20], 'height':[-100, 100]}, \n",
    "                                      'hp_types': {'height': 'float', 'width': 'float'},\n",
    "                                      'use_qc': False})\n",
    "    algo = ConcurrencyLimiter(algo, max_concurrent=4)\n",
    "    scheduler = AsyncHyperBandScheduler()\n",
    "    tuner = tune.Tuner(\n",
    "        #easy_objective,\n",
    "        tune.with_resources(easy_objective, resources={\"CPU\": 24}),\n",
    "        tune_config=tune.TuneConfig(\n",
    "            metric=\"mean_loss\",\n",
    "            mode=\"min\",\n",
    "            search_alg=algo,\n",
    "            scheduler=scheduler,\n",
    "            num_samples=10 if args.smoke_test else 20,\n",
    "        ),\n",
    "        run_config=train.RunConfig(\n",
    "            name=\"my_exp\",\n",
    "        ),\n",
    "        param_space={\n",
    "            \"steps\": 100,\n",
    "            \"width\": tune.uniform(0, 20),\n",
    "            \"height\": tune.uniform(-100, 100),\n",
    "        },\n",
    "    )\n",
    "    results = tuner.fit()\n",
    "\n",
    "    print(\"Best hyperparameters found were: \", results.get_best_result().config)"
   ]
  },
  {
   "cell_type": "code",
   "execution_count": 44,
   "id": "3c804ed1-9a7b-4292-86e5-85f6bd00e2b9",
   "metadata": {
    "tags": []
   },
   "outputs": [
    {
     "data": {
      "text/plain": [
       "['5.088555004830235,-41.779583444657575',\n",
       " '12.007354235354315,-40.48545799666802',\n",
       " '12.448950123835871,-35.32304544956513']"
      ]
     },
     "execution_count": 44,
     "metadata": {},
     "output_type": "execute_result"
    }
   ],
   "source": [
    "algo.searcher.test_optimizer.local_buffer"
   ]
  },
  {
   "cell_type": "code",
   "execution_count": null,
   "id": "658c46a3-7e51-4825-97be-6f718fe7cd14",
   "metadata": {},
   "outputs": [],
   "source": []
  },
  {
   "cell_type": "code",
   "execution_count": null,
   "id": "845f5257-75a2-4695-8922-840c6765804f",
   "metadata": {},
   "outputs": [],
   "source": []
  }
 ],
 "metadata": {
  "kernelspec": {
   "display_name": "conda_pytorch_p310",
   "language": "python",
   "name": "conda_pytorch_p310"
  },
  "language_info": {
   "codemirror_mode": {
    "name": "ipython",
    "version": 3
   },
   "file_extension": ".py",
   "mimetype": "text/x-python",
   "name": "python",
   "nbconvert_exporter": "python",
   "pygments_lexer": "ipython3",
   "version": "3.10.14"
  }
 },
 "nbformat": 4,
 "nbformat_minor": 5
}
