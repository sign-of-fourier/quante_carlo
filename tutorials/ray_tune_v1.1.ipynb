{
 "cells": [
  {
   "cell_type": "code",
   "execution_count": null,
   "id": "3f41a17f-aba8-4c60-b8e1-40e8524c7877",
   "metadata": {
    "tags": []
   },
   "outputs": [],
   "source": [
    "pip install ray ConfigSpace bayesian-optimization"
   ]
  },
  {
   "cell_type": "code",
   "execution_count": null,
   "id": "4e75916a-6d9d-4206-8a99-6db59d407949",
   "metadata": {
    "tags": []
   },
   "outputs": [],
   "source": [
    "pip install \"ray[tune]\""
   ]
  },
  {
   "cell_type": "markdown",
   "id": "2442774e-4e4e-4bb5-a9b5-ed90cb164265",
   "metadata": {},
   "source": [
    "# Quante Carlo Demo with Ray Tune"
   ]
  },
  {
   "cell_type": "code",
   "execution_count": 1,
   "id": "538ed37d-f208-48eb-9013-f3d1b063ae9e",
   "metadata": {
    "tags": []
   },
   "outputs": [],
   "source": [
    "import numpy as np\n",
    "\n",
    "from ray import train, tune # has to be before ray, why?\n",
    "from ray.tune.schedulers import ASHAScheduler\n",
    "import qc_search as qc\n",
    "\n",
    "import time\n",
    "from ray.tune.schedulers import AsyncHyperBandScheduler\n",
    "from ray.tune.search import ConcurrencyLimiter\n",
    "from ray.tune.search.bayesopt import BayesOptSearch\n",
    "import neural_network"
   ]
  },
  {
   "cell_type": "code",
   "execution_count": 90,
   "id": "677e96c9-bf60-41f6-a2ec-57422d0db49b",
   "metadata": {
    "tags": []
   },
   "outputs": [
    {
     "data": {
      "text/plain": [
       "<module 'qc_search' from '/home/ec2-user/SageMaker/projects/quante_carlo/tutorials/qc_search.py'>"
      ]
     },
     "execution_count": 90,
     "metadata": {},
     "output_type": "execute_result"
    }
   ],
   "source": [
    "from importlib import reload\n",
    "reload(qc)"
   ]
  },
  {
   "cell_type": "code",
   "execution_count": null,
   "id": "7586fb69-4d82-45a0-a240-ed20e575b58c",
   "metadata": {
    "tags": []
   },
   "outputs": [],
   "source": [
    "def evaluation_fn(step, width, height):\n",
    "    return (0.1 + width * step / 100) ** (-1) + height * 0.1\n",
    "\n",
    "\n",
    "def easy_objective(config):\n",
    "    # Hyperparameters\n",
    "\n",
    "    width, height = config[\"width\"], config[\"height\"]\n",
    "    for step in range(config[\"steps\"]):\n",
    "#        with open('debug.txt', 'a') as f:\n",
    "#            f.write(config['debug_string']+ \"\\n\")\n",
    "        # Iterative training function - can be any arbitrary training procedure\n",
    "        intermediate_score = evaluation_fn(step, width, height)\n",
    "        # Feed the score back back to Tune.\n",
    "        train.report({\"iterations\": step, \"mean_loss\": intermediate_score})\n",
    "        time.sleep(0.1)\n",
    "\n",
    "\n",
    "if __name__ == \"__main__\":\n",
    "    import argparse\n",
    "\n",
    "    parser = argparse.ArgumentParser()\n",
    "    parser.add_argument(\n",
    "        \"--smoke-test\", action=\"store_true\", help=\"Finish quickly for testing\"\n",
    "    )\n",
    "    args, _ = parser.parse_known_args()\n",
    "\n",
    "#    algo = BayesOptSearch(utility_kwargs={\"kind\": \"ucb\", \"kappa\": 2.5, \"xi\": 0.0}) # utility function is broken\n",
    "    # need to manage numerical instability\n",
    "    algo = qc.BayesOptSearch(bo_args={'bo_batch_size': 50, 'keys': ['width', 'height'], 'n_procs': 4,\n",
    "                                      'hp_space': {'width':[0, 20], 'height':[-100, 100]}, \n",
    "                                      'hp_types': {'height': 'float', 'width': 'float'},\n",
    "                                      'other_parameters': oparameters,\n",
    "                                      'use_qc': False})\n",
    "    \n",
    "    algo = ConcurrencyLimiter(algo, max_concurrent=4)\n",
    "    scheduler = AsyncHyperBandScheduler()\n",
    "    tuner = tune.Tuner(\n",
    "        #easy_objective,\n",
    "        tune.with_resources(easy_objective, resources={\"CPU\": 24}),\n",
    "        tune_config=tune.TuneConfig(\n",
    "            metric=\"mean_loss\",\n",
    "            mode=\"min\",\n",
    "            search_alg=algo,\n",
    "            scheduler=scheduler,\n",
    "            num_samples=10 if args.smoke_test else 20,\n",
    "        ),\n",
    "        run_config=train.RunConfig(\n",
    "            name=\"my_exp\",\n",
    "        ),\n",
    "        param_space={\n",
    "            \"steps\": 100,\n",
    "            \"debug_string\": \"what the what\",\n",
    "            \"width\": tune.uniform(0, 20),\n",
    "            \"height\": tune.uniform(-100, 100),\n",
    "        },\n",
    "    )\n",
    "    results = tuner.fit()\n",
    "\n",
    "    print(\"Best hyperparameters found were: \", results.get_best_result().config)"
   ]
  },
  {
   "cell_type": "code",
   "execution_count": 2,
   "id": "1e9d6787-32c0-4a8a-a808-b159bff94c9f",
   "metadata": {
    "tags": []
   },
   "outputs": [],
   "source": [
    "apath = '/home/ec2-user/SageMaker/projects/quante_carlo/tutorials'\n",
    "\n",
    "oparameters = {'n_batches': 2, 'batch_size': .02, 'train_iterations': 3, 'input_layer_size': 28*28,\n",
    "               'output_layer_size': 10,\n",
    "               'train_iterations': 30,\n",
    "               'batch_size': .04,\n",
    "               'train_test_files': {'x_train': apath + '/nn_datasets/X_train.csv',\n",
    "                                    'x_test': apath + '/nn_datasets/X_train.csv',\n",
    "                                    'y_train': apath + '/nn_datasets/y_train.csv',\n",
    "                                    'y_test': apath + '/nn_datasets/y_test.csv'}}"
   ]
  },
  {
   "cell_type": "code",
   "execution_count": 3,
   "id": "dde7dfaa-4821-4063-b8cf-418aa177bb23",
   "metadata": {
    "tags": []
   },
   "outputs": [],
   "source": [
    "from ray.train import ScalingConfig, RunConfig, CheckpointConfig\n",
    "from ray.train.torch import TorchTrainer\n",
    "scaling_config = ScalingConfig(\n",
    "    num_workers=4,\n",
    "    use_gpu=True\n",
    ")\n",
    "run_config = RunConfig(checkpoint_config=CheckpointConfig(num_to_keep=1))"
   ]
  },
  {
   "cell_type": "code",
   "execution_count": 4,
   "id": "4e2c3d9b-6c6e-4440-bde7-1ff21e13e2fa",
   "metadata": {
    "tags": []
   },
   "outputs": [
    {
     "data": {
      "text/html": [
       "<div class=\"tuneStatus\">\n",
       "  <div style=\"display: flex;flex-direction: row\">\n",
       "    <div style=\"display: flex;flex-direction: column;\">\n",
       "      <h3>Tune Status</h3>\n",
       "      <table>\n",
       "<tbody>\n",
       "<tr><td>Current time:</td><td>2024-11-18 02:29:25</td></tr>\n",
       "<tr><td>Running for: </td><td>00:02:22.58        </td></tr>\n",
       "<tr><td>Memory:      </td><td>7.6/186.6 GiB      </td></tr>\n",
       "</tbody>\n",
       "</table>\n",
       "    </div>\n",
       "    <div class=\"vDivider\"></div>\n",
       "    <div class=\"systemInfo\">\n",
       "      <h3>System Info</h3>\n",
       "      Using AsyncHyperBand: num_stopped=14<br>Bracket: Iter 64.000: None | Iter 16.000: None | Iter 4.000: None | Iter 1.000: -0.8915977068245411<br>Logical resource usage: 0/48 CPUs, 4.0/4 GPUs (0.0/1.0 accelerator_type:T4)\n",
       "    </div>\n",
       "    \n",
       "  </div>\n",
       "  <div class=\"hDivider\"></div>\n",
       "  <div class=\"trialStatus\">\n",
       "    <h3>Trial Status</h3>\n",
       "    <table>\n",
       "<thead>\n",
       "<tr><th>Trial name       </th><th>status    </th><th>loc              </th><th style=\"text-align: right;\">  layer_1</th><th style=\"text-align: right;\">  layer_2</th><th style=\"text-align: right;\">  layer_3</th><th style=\"text-align: right;\">    loss</th><th style=\"text-align: right;\">  iter</th><th style=\"text-align: right;\">  total time (s)</th></tr>\n",
       "</thead>\n",
       "<tbody>\n",
       "<tr><td>instance_26570515</td><td>TERMINATED</td><td>172.16.85.5:26873</td><td style=\"text-align: right;\">      124</td><td style=\"text-align: right;\">      622</td><td style=\"text-align: right;\">      257</td><td style=\"text-align: right;\">0.891725</td><td style=\"text-align: right;\">     1</td><td style=\"text-align: right;\">         3.36209</td></tr>\n",
       "<tr><td>instance_b30a58d7</td><td>TERMINATED</td><td>172.16.85.5:27129</td><td style=\"text-align: right;\">      298</td><td style=\"text-align: right;\">      236</td><td style=\"text-align: right;\">       73</td><td style=\"text-align: right;\">0.887155</td><td style=\"text-align: right;\">     1</td><td style=\"text-align: right;\">         3.32041</td></tr>\n",
       "<tr><td>instance_7461a7f6</td><td>TERMINATED</td><td>172.16.85.5:27316</td><td style=\"text-align: right;\">      227</td><td style=\"text-align: right;\">      465</td><td style=\"text-align: right;\">      233</td><td style=\"text-align: right;\">0.895876</td><td style=\"text-align: right;\">     1</td><td style=\"text-align: right;\">         3.30925</td></tr>\n",
       "<tr><td>instance_2afb3387</td><td>TERMINATED</td><td>172.16.85.5:27496</td><td style=\"text-align: right;\">      287</td><td style=\"text-align: right;\">      839</td><td style=\"text-align: right;\">      193</td><td style=\"text-align: right;\">0.90502 </td><td style=\"text-align: right;\">     1</td><td style=\"text-align: right;\">         3.33186</td></tr>\n",
       "<tr><td>instance_8cc1b5d3</td><td>TERMINATED</td><td>172.16.85.5:27676</td><td style=\"text-align: right;\">      192</td><td style=\"text-align: right;\">      838</td><td style=\"text-align: right;\">      215</td><td style=\"text-align: right;\">0.899304</td><td style=\"text-align: right;\">     1</td><td style=\"text-align: right;\">         3.33953</td></tr>\n",
       "<tr><td>instance_f86f49c5</td><td>TERMINATED</td><td>172.16.85.5:27857</td><td style=\"text-align: right;\">      130</td><td style=\"text-align: right;\">      993</td><td style=\"text-align: right;\">       61</td><td style=\"text-align: right;\">0.8801  </td><td style=\"text-align: right;\">     1</td><td style=\"text-align: right;\">         3.34509</td></tr>\n",
       "<tr><td>instance_45e3dc8e</td><td>TERMINATED</td><td>172.16.85.5:28043</td><td style=\"text-align: right;\">      122</td><td style=\"text-align: right;\">      270</td><td style=\"text-align: right;\">      393</td><td style=\"text-align: right;\">0.884292</td><td style=\"text-align: right;\">     1</td><td style=\"text-align: right;\">         3.33066</td></tr>\n",
       "<tr><td>instance_25f6fb0e</td><td>TERMINATED</td><td>172.16.85.5:28222</td><td style=\"text-align: right;\">      264</td><td style=\"text-align: right;\">      554</td><td style=\"text-align: right;\">      247</td><td style=\"text-align: right;\">0.891663</td><td style=\"text-align: right;\">     1</td><td style=\"text-align: right;\">         3.34882</td></tr>\n",
       "<tr><td>instance_48f3b792</td><td>TERMINATED</td><td>172.16.85.5:28404</td><td style=\"text-align: right;\">      258</td><td style=\"text-align: right;\">      181</td><td style=\"text-align: right;\">      469</td><td style=\"text-align: right;\">0.896516</td><td style=\"text-align: right;\">     1</td><td style=\"text-align: right;\">         3.34784</td></tr>\n",
       "<tr><td>instance_f820c890</td><td>TERMINATED</td><td>172.16.85.5:28576</td><td style=\"text-align: right;\">      331</td><td style=\"text-align: right;\">      242</td><td style=\"text-align: right;\">      251</td><td style=\"text-align: right;\">0.9015  </td><td style=\"text-align: right;\">     1</td><td style=\"text-align: right;\">         3.34861</td></tr>\n",
       "<tr><td>instance_48c94bfd</td><td>TERMINATED</td><td>172.16.85.5:28782</td><td style=\"text-align: right;\">      100</td><td style=\"text-align: right;\">      969</td><td style=\"text-align: right;\">      119</td><td style=\"text-align: right;\">0.898518</td><td style=\"text-align: right;\">     1</td><td style=\"text-align: right;\">         3.33741</td></tr>\n",
       "<tr><td>instance_d0051505</td><td>TERMINATED</td><td>172.16.85.5:28958</td><td style=\"text-align: right;\">      509</td><td style=\"text-align: right;\">      565</td><td style=\"text-align: right;\">      403</td><td style=\"text-align: right;\">0.914643</td><td style=\"text-align: right;\">     1</td><td style=\"text-align: right;\">         3.34499</td></tr>\n",
       "<tr><td>instance_9a8770bf</td><td>TERMINATED</td><td>172.16.85.5:29481</td><td style=\"text-align: right;\">      437</td><td style=\"text-align: right;\">      236</td><td style=\"text-align: right;\">      186</td><td style=\"text-align: right;\">0.893665</td><td style=\"text-align: right;\">     1</td><td style=\"text-align: right;\">         3.34734</td></tr>\n",
       "<tr><td>instance_a7b75af9</td><td>TERMINATED</td><td>172.16.85.5:29608</td><td style=\"text-align: right;\">       79</td><td style=\"text-align: right;\">      728</td><td style=\"text-align: right;\">      478</td><td style=\"text-align: right;\">0.896169</td><td style=\"text-align: right;\">     1</td><td style=\"text-align: right;\">         3.32291</td></tr>\n",
       "<tr><td>instance_f9b7a485</td><td>TERMINATED</td><td>172.16.85.5:29788</td><td style=\"text-align: right;\">      445</td><td style=\"text-align: right;\">     1023</td><td style=\"text-align: right;\">      185</td><td style=\"text-align: right;\">0.917669</td><td style=\"text-align: right;\">     1</td><td style=\"text-align: right;\">         3.34816</td></tr>\n",
       "<tr><td>instance_655a5cff</td><td>TERMINATED</td><td>172.16.85.5:29969</td><td style=\"text-align: right;\">      500</td><td style=\"text-align: right;\">      609</td><td style=\"text-align: right;\">      100</td><td style=\"text-align: right;\">0.903705</td><td style=\"text-align: right;\">     1</td><td style=\"text-align: right;\">         3.2836 </td></tr>\n",
       "<tr><td>instance_4aac4247</td><td>TERMINATED</td><td>172.16.85.5:30153</td><td style=\"text-align: right;\">      414</td><td style=\"text-align: right;\">      222</td><td style=\"text-align: right;\">       75</td><td style=\"text-align: right;\">0.887105</td><td style=\"text-align: right;\">     1</td><td style=\"text-align: right;\">         3.34242</td></tr>\n",
       "<tr><td>instance_af35f2aa</td><td>TERMINATED</td><td>172.16.85.5:30338</td><td style=\"text-align: right;\">      506</td><td style=\"text-align: right;\">      704</td><td style=\"text-align: right;\">      468</td><td style=\"text-align: right;\">0.910942</td><td style=\"text-align: right;\">     1</td><td style=\"text-align: right;\">         3.38503</td></tr>\n",
       "<tr><td>instance_2a36c643</td><td>TERMINATED</td><td>172.16.85.5:30524</td><td style=\"text-align: right;\">      455</td><td style=\"text-align: right;\">      176</td><td style=\"text-align: right;\">      150</td><td style=\"text-align: right;\">0.891401</td><td style=\"text-align: right;\">     1</td><td style=\"text-align: right;\">         3.29721</td></tr>\n",
       "<tr><td>instance_c3a006c5</td><td>TERMINATED</td><td>172.16.85.5:30794</td><td style=\"text-align: right;\">      510</td><td style=\"text-align: right;\">      341</td><td style=\"text-align: right;\">      323</td><td style=\"text-align: right;\">0.904273</td><td style=\"text-align: right;\">     1</td><td style=\"text-align: right;\">         3.34629</td></tr>\n",
       "</tbody>\n",
       "</table>\n",
       "  </div>\n",
       "</div>\n",
       "<style>\n",
       ".tuneStatus {\n",
       "  color: var(--jp-ui-font-color1);\n",
       "}\n",
       ".tuneStatus .systemInfo {\n",
       "  display: flex;\n",
       "  flex-direction: column;\n",
       "}\n",
       ".tuneStatus td {\n",
       "  white-space: nowrap;\n",
       "}\n",
       ".tuneStatus .trialStatus {\n",
       "  display: flex;\n",
       "  flex-direction: column;\n",
       "}\n",
       ".tuneStatus h3 {\n",
       "  font-weight: bold;\n",
       "}\n",
       ".tuneStatus .hDivider {\n",
       "  border-bottom-width: var(--jp-border-width);\n",
       "  border-bottom-color: var(--jp-border-color0);\n",
       "  border-bottom-style: solid;\n",
       "}\n",
       ".tuneStatus .vDivider {\n",
       "  border-left-width: var(--jp-border-width);\n",
       "  border-left-color: var(--jp-border-color0);\n",
       "  border-left-style: solid;\n",
       "  margin: 0.5em 1em 0.5em 1em;\n",
       "}\n",
       "</style>\n"
      ],
      "text/plain": [
       "<IPython.core.display.HTML object>"
      ]
     },
     "metadata": {},
     "output_type": "display_data"
    },
    {
     "name": "stderr",
     "output_type": "stream",
     "text": [
      "2024-11-18 02:29:25,923\tINFO tune.py:1009 -- Wrote the latest version of all result files and experiment state to '/home/ec2-user/ray_results/my_exp' in 0.0234s.\n",
      "2024-11-18 02:29:25,930\tINFO tune.py:1041 -- Total run time: 142.66 seconds (142.56 seconds for the tuning loop).\n"
     ]
    },
    {
     "name": "stdout",
     "output_type": "stream",
     "text": [
      "Best hyperparameters found were:  {'n_batches': 2, 'batch_size': 0.04, 'train_iterations': 30, 'input_layer_size': 784, 'output_layer_size': 10, 'train_test_files': {'x_train': '/home/ec2-user/SageMaker/projects/quante_carlo/tutorials/nn_datasets/X_train.csv', 'x_test': '/home/ec2-user/SageMaker/projects/quante_carlo/tutorials/nn_datasets/X_train.csv', 'y_train': '/home/ec2-user/SageMaker/projects/quante_carlo/tutorials/nn_datasets/y_train.csv', 'y_test': '/home/ec2-user/SageMaker/projects/quante_carlo/tutorials/nn_datasets/y_test.csv'}, 'layer_1': 130, 'layer_2': 993, 'layer_3': 61}\n"
     ]
    }
   ],
   "source": [
    "\n",
    "#from ray.train.torch import TorchTrainer\n",
    "\n",
    "if __name__ == \"__main__\":\n",
    "    import argparse\n",
    "\n",
    "    parser = argparse.ArgumentParser()\n",
    "    parser.add_argument(\n",
    "        \"--smoke-test\", action=\"store_true\", help=\"Finish quickly for testing\"\n",
    "    )\n",
    "    args, _ = parser.parse_known_args()\n",
    "\n",
    "#    algo = BayesOptSearch(utility_kwargs={\"kind\": \"ucb\", \"kappa\": 2.5, \"xi\": 0.0}) # utility function is broken\n",
    "    # need to manage numerical instability\n",
    "    algo = qc.BayesOptSearch(bo_args={'bo_batch_size': 50, 'keys': ['layer_1', 'layer_2', 'layer_3'], 'n_procs': 4,\n",
    "                                      'hp_space': {'layer_1':[32, 512], 'layer_2':[128, 1024], 'layer_3': [32, 512]},\n",
    "                                      'hp_types': {'layer_1': 'int', 'layer_2': 'int', 'layer_3': 'int'},\n",
    "                                      'use_qc': True})\n",
    "\n",
    "\n",
    "    algo = ConcurrencyLimiter(algo, max_concurrent=4)\n",
    "    scheduler = AsyncHyperBandScheduler()\n",
    "    tuner = tune.Tuner(\n",
    "        tune.with_resources(neural_network.instance, resources={'GPU': 4}),\n",
    "#        trainer,\n",
    "        tune_config=tune.TuneConfig(\n",
    "            metric=\"mean_loss\",  # these are probably wrong\n",
    "            mode=\"min\",          # <-----------------------\n",
    "            search_alg=algo,\n",
    "            scheduler=scheduler,\n",
    "            num_samples=10 if args.smoke_test else 20,\n",
    "        ),\n",
    "        run_config=train.RunConfig( # wonder what this does\n",
    "            name=\"my_exp\",\n",
    "        ),\n",
    "        param_space=oparameters,\n",
    "    )\n",
    "    results = tuner.fit()\n",
    "\n",
    "    print(\"Best hyperparameters found were: \", results.get_best_result().config)"
   ]
  },
  {
   "cell_type": "code",
   "execution_count": 10,
   "id": "9e8e502b-5061-4385-9ee2-5f969109a70a",
   "metadata": {
    "tags": []
   },
   "outputs": [
    {
     "data": {
      "text/plain": [
       "[-0.8917245864868164,\n",
       " -0.8871553540229797,\n",
       " -0.8958764746785164,\n",
       " -0.9050201699137688,\n",
       " -0.8993035405874252,\n",
       " -0.8800995126366615,\n",
       " -0.8842921704053879,\n",
       " -0.8916633427143097,\n",
       " -0.8965161889791489,\n",
       " -0.9014996662735939,\n",
       " -0.8985180705785751,\n",
       " -0.9146427065134048,\n",
       " -0.8936652019619942,\n",
       " -0.8961685299873352,\n",
       " -0.9176686629652977,\n",
       " -0.9037045687437057,\n",
       " -0.8871054276823997,\n",
       " -0.9109423384070396,\n",
       " -0.8914007991552353,\n",
       " -0.9042731076478958]"
      ]
     },
     "execution_count": 10,
     "metadata": {},
     "output_type": "execute_result"
    }
   ],
   "source": [
    "algo.searcher.test_optimizer.historical_values"
   ]
  },
  {
   "cell_type": "code",
   "execution_count": null,
   "id": "8bde6cdc-e6a5-4f7b-a0b9-c9f7ea32af82",
   "metadata": {},
   "outputs": [],
   "source": []
  },
  {
   "cell_type": "code",
   "execution_count": 96,
   "id": "3c804ed1-9a7b-4292-86e5-85f6bd00e2b9",
   "metadata": {
    "tags": []
   },
   "outputs": [],
   "source": [
    "#import torch\n",
    "#ray.cluster_resources()"
   ]
  },
  {
   "cell_type": "code",
   "execution_count": 33,
   "id": "658c46a3-7e51-4825-97be-6f718fe7cd14",
   "metadata": {
    "tags": []
   },
   "outputs": [],
   "source": [
    "param_space={\n",
    "    \"steps\": 100,\n",
    "    \"debug_string\": \"x\",\n",
    "    \"width\": tune.uniform(0, 20),\n",
    "    \"n_neurons\": tune.\n",
    "    \"height\": tune.uniform(-100, 100),\n",
    "}\n",
    "from typing import TYPE_CHECKING, Any, Dict, List, Optional, Tuple"
   ]
  },
  {
   "cell_type": "code",
   "execution_count": 31,
   "id": "845f5257-75a2-4695-8922-840c6765804f",
   "metadata": {
    "tags": []
   },
   "outputs": [
    {
     "data": {
      "text/plain": [
       "{'width': (0, 20), 'height': (-100, 100)}"
      ]
     },
     "execution_count": 31,
     "metadata": {},
     "output_type": "execute_result"
    }
   ],
   "source": [
    "algo.searcher.convert_search_space(param_space)"
   ]
  },
  {
   "cell_type": "code",
   "execution_count": 41,
   "id": "28fe7df3-a3b8-4193-9072-33f9732e3cb3",
   "metadata": {
    "tags": []
   },
   "outputs": [],
   "source": [
    "from ray.tune.search.variant_generator import parse_spec_vars\n",
    "resolved_vars, domain_vars, grid_vars = parse_spec_vars(param_space)"
   ]
  },
  {
   "cell_type": "code",
   "execution_count": 57,
   "id": "f9a80e0b-1554-4529-92b5-cac589081c58",
   "metadata": {
    "tags": []
   },
   "outputs": [
    {
     "data": {
      "text/plain": [
       "True"
      ]
     },
     "execution_count": 57,
     "metadata": {},
     "output_type": "execute_result"
    }
   ],
   "source": [
    "from ray.tune.search.sample import Domain, Float, Quantized, Uniform\n",
    "isinstance(domain_vars[0][1], Float)\n"
   ]
  },
  {
   "cell_type": "code",
   "execution_count": 39,
   "id": "16979d30-bccb-46ec-a25d-eb985bfc34d6",
   "metadata": {
    "tags": []
   },
   "outputs": [
    {
     "data": {
      "text/plain": [
       "{'steps': 100,\n",
       " 'debug_string': 'what the what',\n",
       " 'width': <ray.tune.search.sample.Float at 0x7fb95aa33940>,\n",
       " 'height': <ray.tune.search.sample.Float at 0x7fb95aa313c0>}"
      ]
     },
     "execution_count": 39,
     "metadata": {},
     "output_type": "execute_result"
    }
   ],
   "source": [
    "from ray.tune.utils import flatten_dict\n",
    "from ray.tune.utils.util import is_nan_or_inf, unflatten_dict\n",
    "flatten_dict(param_space)\n",
    "param_space"
   ]
  },
  {
   "cell_type": "code",
   "execution_count": 34,
   "id": "2d4c98fc-73dd-4887-b6e6-7ebba1a5308c",
   "metadata": {
    "tags": []
   },
   "outputs": [],
   "source": [
    "def convert(spec: Dict, join: bool = False) -> Dict:\n",
    "    resolved_vars, domain_vars, grid_vars = parse_spec_vars(spec)\n",
    "\n",
    "    if grid_vars:\n",
    "        raise ValueError(\n",
    "            \"Grid search parameters cannot be automatically converted \"\n",
    "            \"to a BayesOpt search space.\"\n",
    "        )\n",
    "\n",
    "    # Flatten and resolve again after checking for grid search.\n",
    "    spec = flatten_dict(spec, prevent_delimiter=True)\n",
    "    resolved_vars, domain_vars, grid_vars = parse_spec_vars(spec)\n",
    "\n",
    "    def resolve_value(domain: Domain) -> Tuple[float, float]:\n",
    "        sampler = domain.get_sampler()\n",
    "        if isinstance(sampler, Quantized):\n",
    "            logger.warning(\n",
    "                \"BayesOpt search does not support quantization. \"\n",
    "                \"Dropped quantization.\"\n",
    "            )\n",
    "            sampler = sampler.get_sampler()\n",
    "\n",
    "        if isinstance(domain, Float):\n",
    "            if domain.sampler is not None and not isinstance(\n",
    "                domain.sampler, Uniform\n",
    "            ):\n",
    "                logger.warning(\n",
    "                    \"BayesOpt does not support specific sampling methods. \"\n",
    "                    \"The {} sampler will be dropped.\".format(sampler)\n",
    "                )\n",
    "            return (domain.lower, domain.upper)\n",
    "\n",
    "        raise ValueError(\n",
    "            \"BayesOpt does not support parameters of type \"\n",
    "            \"`{}`\".format(type(domain).__name__)\n",
    "        )\n",
    "\n",
    "    # Parameter name is e.g. \"a/b/c\" for nested dicts\n",
    "    bounds = {\"/\".join(path): resolve_value(domain) for path, domain in domain_vars}\n",
    "\n",
    "    if join:\n",
    "        spec.update(bounds)\n",
    "        bounds = spec\n",
    "\n",
    "    return bounds"
   ]
  },
  {
   "cell_type": "code",
   "execution_count": null,
   "id": "1e42b27d-7bdb-49ce-b523-fefea04f32ee",
   "metadata": {},
   "outputs": [],
   "source": []
  }
 ],
 "metadata": {
  "kernelspec": {
   "display_name": "conda_pytorch_p310",
   "language": "python",
   "name": "conda_pytorch_p310"
  },
  "language_info": {
   "codemirror_mode": {
    "name": "ipython",
    "version": 3
   },
   "file_extension": ".py",
   "mimetype": "text/x-python",
   "name": "python",
   "nbconvert_exporter": "python",
   "pygments_lexer": "ipython3",
   "version": "3.10.14"
  }
 },
 "nbformat": 4,
 "nbformat_minor": 5
}
