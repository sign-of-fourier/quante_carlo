{
 "cells": [
  {
   "cell_type": "code",
   "execution_count": null,
   "id": "7c90cad6-e3e3-4e5d-8f03-954041595379",
   "metadata": {
    "tags": []
   },
   "outputs": [],
   "source": [
    "pip install openai"
   ]
  },
  {
   "cell_type": "code",
   "execution_count": null,
   "id": "e3cdd38f-752d-4a4e-b3a8-96d6d696d03d",
   "metadata": {
    "tags": []
   },
   "outputs": [],
   "source": [
    "import pandas as pd\n",
    "from model2vec import StaticModel\n",
    "from sklearn.cluster import KMeans\n",
    "from sklearn.gaussian_process import GaussianProcessRegressor\n",
    "from sklearn.gaussian_process.kernels import WhiteKernel, Matern\n",
    "from scipy.stats import multivariate_normal as mvn\n",
    "#import json\n",
    "#import boto3\n",
    "#import re\n",
    "#from scipy.stats import spearmanr"
   ]
  },
  {
   "cell_type": "code",
   "execution_count": null,
   "id": "ac9e6391-8869-4c97-a37a-5c92ecddd35a",
   "metadata": {
    "tags": []
   },
   "outputs": [],
   "source": [
    "train_df = pd.read_csv('~/environment/projects/no_repo/dspy/train.csv', encoding='iso-8859-1')\n",
    "product_desc_df = pd.read_csv('~/environment/projects/no_repo/dspy/product_descriptions.csv', encoding='iso-8859-1')"
   ]
  },
  {
   "cell_type": "code",
   "execution_count": null,
   "id": "f5bcf367-8a98-44c8-8781-8b2b2ce28dbf",
   "metadata": {
    "tags": []
   },
   "outputs": [],
   "source": [
    "train_df.value_counts('product_uid').head()"
   ]
  },
  {
   "cell_type": "code",
   "execution_count": null,
   "id": "1d924442-f604-4813-9d4f-f945a7a337a4",
   "metadata": {
    "tags": []
   },
   "outputs": [],
   "source": [
    "description = product_desc_df[product_desc_df['product_uid']==102456]['product_description'].iloc[0]\n",
    "product_name = train_df[train_df['product_uid']==102456]['product_title'].iloc[0]\n",
    "#.merge(product_desc_df, on='product_uid')"
   ]
  },
  {
   "cell_type": "code",
   "execution_count": null,
   "id": "20f8bd6d-c1fd-4659-be75-acc229f2866a",
   "metadata": {
    "tags": []
   },
   "outputs": [],
   "source": [
    "model = StaticModel.from_pretrained(\"minishlab/potion-base-8M\")\n",
    "short_model = StaticModel.from_pretrained(\"minishlab/potion-base-2M\")"
   ]
  },
  {
   "cell_type": "code",
   "execution_count": null,
   "id": "b2638c4d-afe7-42e6-bd48-3ea14cb26da5",
   "metadata": {
    "tags": []
   },
   "outputs": [],
   "source": [
    "df = train_df.merge(product_desc_df, on='product_uid')\n",
    "desc_embed = short_model.encode([t for t in df['product_description']])\n",
    "search_embeddings = short_model.encode([t for t in df['search_term']])\n",
    "\n",
    "model = StaticModel.from_pretrained(\"minishlab/potion-base-2M\")\n",
    "unique_search_embeddings = model.encode([t for t in df['search_term'].unique()])\n"
   ]
  },
  {
   "cell_type": "code",
   "execution_count": null,
   "id": "554dece8-6737-4b8e-9cf0-0d3309f481f1",
   "metadata": {
    "tags": []
   },
   "outputs": [],
   "source": [
    "cluster = KMeans(n_clusters=768)\n",
    "cluster.fit(unique_search_embeddings)\n",
    "cluster_id = cluster.predict(search_embeddings)"
   ]
  },
  {
   "cell_type": "code",
   "execution_count": null,
   "id": "da8e0bb2-a0f8-441d-815f-2a9302745f40",
   "metadata": {},
   "outputs": [],
   "source": [
    "first_cluster_search = list(set([s for x, s in zip(cluster_id, df['search_term']) if x == 0]))\n",
    "first_cluster_search"
   ]
  },
  {
   "cell_type": "code",
   "execution_count": null,
   "id": "29bfac37-a9c8-45fb-a3c9-88f5e2d8d547",
   "metadata": {},
   "outputs": [],
   "source": [
    "from scipy.stats import ecdf\n",
    "from scipy.stats import norm\n",
    "\n",
    "transf = ecdf(train_df['relevance'])\n",
    "\n",
    "# can't use 1 or 0 in norm.ppf. They translate to inf, -inf\n",
    "normal_relevance = [norm.ppf(x*.999) + .0005 for x in transf.cdf.evaluate(train_df['relevance'])]"
   ]
  },
  {
   "cell_type": "code",
   "execution_count": null,
   "id": "ef15261b-1e3d-46c3-a72b-531e08d70474",
   "metadata": {},
   "outputs": [],
   "source": [
    "first_cluster_desc = [s for x, s in zip(cluster_id, df['product_description']) if x == 0]\n",
    "first_cluster_desc_embed = [de for x, de in zip(cluster_id, desc_embed) if x == 0]\n",
    "first_cluster_product_id = [s for x, s in zip(cluster_id, df['product_uid']) if x == 0]\n",
    "first_cluster_relevance = [r for x, r in zip(cluster_id, normal_relevance) if x == 0]\n",
    "\n",
    "print(len(first_cluster_product_id), len(set(first_cluster_product_id)))\n",
    "dedup_df = pd.DataFrame({'embedding': [str(x) for x in first_cluster_desc_embed],\n",
    "                         'relevance': first_cluster_relevance}).drop_duplicates()\n"
   ]
  },
  {
   "cell_type": "code",
   "execution_count": null,
   "id": "62a7b545-dd7f-4190-900f-7b0bbb79a71f",
   "metadata": {},
   "outputs": [],
   "source": [
    "from math import comb\n",
    "\n",
    "n_recommendations = 4\n",
    "comb(len(first_cluster_desc), n_recommendations)\n"
   ]
  },
  {
   "cell_type": "code",
   "execution_count": null,
   "id": "c740bedb-f576-456f-bddd-e353b03da906",
   "metadata": {},
   "outputs": [],
   "source": [
    "gpr = GaussianProcessRegressor(kernel= Matern() + WhiteKernel(), copy_X_train=False)\n",
    "gpr.fit(first_cluster_desc_embed, first_cluster_relevance)\n",
    "\n",
    "recommendations = pd.DataFrame({'embedding': first_cluster_desc_embed,\n",
    "                                'relevance': first_cluster_relevance}).\\\n",
    "                  sort_values('relevance', ascending=False).\\\n",
    "                  head(n_recommendations)\n",
    "top_rec_mu, top_rec_sig = gpr.predict([x for x in recommendations['embedding']], return_cov=True)\n",
    "1-mvn.cdf([3]*n_recommendations, top_rec_mu, top_rec_sig)"
   ]
  },
  {
   "cell_type": "code",
   "execution_count": null,
   "id": "f74809fa-5041-4842-b4b6-b47906d18488",
   "metadata": {},
   "outputs": [],
   "source": [
    "import qc\n",
    "from importlib import reload\n",
    "reload(qc)"
   ]
  },
  {
   "cell_type": "code",
   "execution_count": null,
   "id": "91faa266-9069-45ee-8185-1330e41ac094",
   "metadata": {},
   "outputs": [],
   "source": [
    "pip install git+http://github.com/quante_carlo.git"
   ]
  },
  {
   "cell_type": "code",
   "execution_count": null,
   "id": "2b50d7d2-e782-4feb-bfb1-513e1fcc3600",
   "metadata": {},
   "outputs": [],
   "source": [
    "from multiprocessing import Pool\n",
    "import quante_carlo as qc\n",
    "bo = qc.BEO(bo_batch_size=1000)\n",
    "\n",
    "p = Pool(4)\n",
    "results = p.map(bo.suggestion_combinations, [{'embeddings': first_cluster_desc_embed, \n",
    "                                              'scores': first_cluster_relevance}] * 4)\n",
    "p.close()"
   ]
  },
  {
   "cell_type": "code",
   "execution_count": null,
   "id": "71088dc5-f817-4322-a2b5-6b6cbcd3cce5",
   "metadata": {},
   "outputs": [],
   "source": [
    "p.close()"
   ]
  },
  {
   "cell_type": "code",
   "execution_count": null,
   "id": "519bff46-886d-44db-b5b9-d04313ba24fe",
   "metadata": {},
   "outputs": [],
   "source": [
    "results"
   ]
  },
  {
   "cell_type": "code",
   "execution_count": null,
   "id": "0f5b323c-ce5c-4cdd-be3f-00462a3e573d",
   "metadata": {},
   "outputs": [],
   "source": []
  }
 ],
 "metadata": {
  "kernelspec": {
   "display_name": "Python [conda env:pytorch]",
   "language": "python",
   "name": "conda-env-pytorch-py"
  },
  "language_info": {
   "codemirror_mode": {
    "name": "ipython",
    "version": 3
   },
   "file_extension": ".py",
   "mimetype": "text/x-python",
   "name": "python",
   "nbconvert_exporter": "python",
   "pygments_lexer": "ipython3",
   "version": "3.12.1"
  }
 },
 "nbformat": 4,
 "nbformat_minor": 5
}
